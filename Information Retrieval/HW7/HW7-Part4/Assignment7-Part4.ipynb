{
 "cells": [
  {
   "cell_type": "markdown",
   "id": "f15d5e91",
   "metadata": {},
   "source": [
    "### Question:\n",
    "    \n",
    "Replace  the  input  data  and  code  in  Speech  Recognition  example  of  CSCE  5200  course  Chapter  5  (Part \n",
    "2).  For  this  purpose,  use  own  original  names  to  mark  variables,  size  and  meanings  of  input  data. \n",
    "Execute  the  code  in  any  programming  language.  Describe  the  problem  statement,  input  data,  used \n",
    "methods ,  code  and  results  obtained.  Upload  the  file  consisting  of  the  code  and  related  report  to  the \n",
    "UNT Canvas environment. \n",
    " \n",
    "Description of me thods  and example:  The methods and code description and re lated simulation results are presented  in the Chapter 5 (Part 2) \n",
    "of CSCE  5200  course.   \n"
   ]
  },
  {
   "cell_type": "code",
   "execution_count": 9,
   "id": "8fde1f03",
   "metadata": {},
   "outputs": [
    {
     "name": "stdout",
     "output_type": "stream",
     "text": [
      "Requirement already satisfied: SpeechRecognition in /Users/roja/opt/anaconda3/lib/python3.9/site-packages (3.8.1)\n",
      "\u001b[33mWARNING: You are using pip version 21.2.3; however, version 22.3 is available.\n",
      "You should consider upgrading via the '/Users/roja/opt/anaconda3/bin/python -m pip install --upgrade pip' command.\u001b[0m\n",
      "Note: you may need to restart the kernel to use updated packages.\n"
     ]
    }
   ],
   "source": [
    "pip install SpeechRecognition"
   ]
  },
  {
   "cell_type": "code",
   "execution_count": 11,
   "id": "d79482b3",
   "metadata": {},
   "outputs": [
    {
     "name": "stdout",
     "output_type": "stream",
     "text": [
      "Requirement already satisfied: monotonic in /Users/roja/opt/anaconda3/lib/python3.9/site-packages (1.6)\n",
      "\u001b[33mWARNING: You are using pip version 21.2.3; however, version 22.3 is available.\n",
      "You should consider upgrading via the '/Users/roja/opt/anaconda3/bin/python -m pip install --upgrade pip' command.\u001b[0m\n",
      "Note: you may need to restart the kernel to use updated packages.\n"
     ]
    }
   ],
   "source": [
    "pip install monotonic"
   ]
  },
  {
   "cell_type": "code",
   "execution_count": 4,
   "id": "5b87736f",
   "metadata": {},
   "outputs": [
    {
     "name": "stdout",
     "output_type": "stream",
     "text": [
      "Speak:\n",
      "You said:hello this is information retrieval course\n"
     ]
    }
   ],
   "source": [
    "import speech_recognition as sr\n",
    "\n",
    "# get audio from microphone\n",
    "r = sr.Recognizer()\n",
    "with sr.Microphone() as source:\n",
    "    print(\"Speak:\")\n",
    "    audio = r.listen(source)\n",
    "\n",
    "try:\n",
    "    print(\"You said:\" + r.recognize_google(audio))\n",
    "except sr.UnknownValueError:\n",
    "    print(\"Could not understand audio\")\n",
    "except sr.RequestError as e:\n",
    "    print(\"Could not request results; {0}\" .format(e))\n",
    "    "
   ]
  },
  {
   "cell_type": "code",
   "execution_count": 25,
   "id": "52c23098",
   "metadata": {},
   "outputs": [
    {
     "name": "stdout",
     "output_type": "stream",
     "text": [
      "Collecting package metadata (current_repodata.json): done\n",
      "Solving environment: \\ \n",
      "The environment is inconsistent, please check the package plan carefully\n",
      "The following packages are causing the inconsistency:\n",
      "\n",
      "  - defaults/noarch::conda-pack==0.6.0=pyhd3eb1b0_0\n",
      "  - defaults/noarch::jupyterlab_server==2.8.2=pyhd3eb1b0_0\n",
      "  - defaults/noarch::cookiecutter==1.7.2=pyhd3eb1b0_0\n",
      "  - defaults/osx-64::astroid==2.6.6=py39hecd8cb5_0\n",
      "  - defaults/osx-64::navigator-updater==0.2.1=py39hecd8cb5_0\n",
      "  - defaults/osx-64::numba==0.54.1=py39hae1ba45_0\n",
      "  - defaults/osx-64::jupyter==1.0.0=py39hecd8cb5_7\n",
      "  - defaults/osx-64::gevent==21.8.0=py39h9ed2024_1\n",
      "  - defaults/osx-64::zope.event==4.5.0=py39hecd8cb5_0\n",
      "  - defaults/noarch::nbclient==0.5.3=pyhd3eb1b0_0\n",
      "  - defaults/noarch::conda-repo-cli==1.0.4=pyhd3eb1b0_0\n",
      "  - defaults/noarch::backports.functools_lru_cache==1.6.4=pyhd3eb1b0_0\n",
      "  - defaults/osx-64::nbconvert==6.1.0=py39hecd8cb5_0\n",
      "  - defaults/noarch::nbclassic==0.2.6=pyhd3eb1b0_0\n",
      "  - defaults/noarch::pyls-spyder==0.4.0=pyhd3eb1b0_0\n",
      "  - defaults/osx-64::matplotlib-base==3.4.3=py39h0a11d32_0\n",
      "  - defaults/noarch::jinja2==2.11.3=pyhd3eb1b0_0\n",
      "  - defaults/osx-64::distributed==2021.10.0=py39hecd8cb5_0\n",
      "  - defaults/osx-64::notebook==6.4.5=py39hecd8cb5_0\n",
      "  - defaults/noarch::sphinx==4.2.0=pyhd3eb1b0_1\n",
      "  - defaults/noarch::numpydoc==1.1.0=pyhd3eb1b0_1\n",
      "  - defaults/osx-64::astropy==4.3.1=py39hf9932de_0\n",
      "  - defaults/noarch::conda-verify==3.4.2=py_1\n",
      "  - defaults/osx-64::anaconda-navigator==2.1.4=py39hecd8cb5_0\n",
      "  - defaults/osx-64::pytest==6.2.4=py39hecd8cb5_2\n",
      "  - defaults/noarch::jupyterlab_pygments==0.1.2=py_0\n",
      "  - defaults/noarch::qtawesome==1.0.2=pyhd3eb1b0_0\n",
      "  - defaults/noarch::jinja2-time==0.2.0=pyhd3eb1b0_2\n",
      "  - defaults/noarch::jupyter_console==6.4.0=pyhd3eb1b0_0\n",
      "  - defaults/osx-64::zope.interface==5.4.0=py39h9ed2024_0\n",
      "  - defaults/noarch::jsonschema==3.2.0=pyhd3eb1b0_2\n",
      "  - defaults/osx-64::anaconda-client==1.9.0=py39hecd8cb5_0\n",
      "  - defaults/osx-64::_ipyw_jlab_nb_ext_conf==0.1.0=py39hecd8cb5_0\n",
      "  - defaults/noarch::flask==1.1.2=pyhd3eb1b0_0\n",
      "  - defaults/osx-64::scikit-image==0.18.3=py39hae1ba45_0\n",
      "  - defaults/noarch::pygments==2.10.0=pyhd3eb1b0_0\n",
      "  - defaults/noarch::nbformat==5.1.3=pyhd3eb1b0_0\n",
      "  - defaults/noarch::jupyterlab==3.2.1=pyhd3eb1b0_1\n",
      "  - defaults/osx-64::pylint==2.9.6=py39hecd8cb5_1\n",
      "  - defaults/noarch::ipywidgets==7.6.5=pyhd3eb1b0_1\n",
      "  - defaults/osx-64::jupyter_server==1.4.1=py39hecd8cb5_0\n",
      "  - defaults/noarch::conda-token==0.3.0=pyhd3eb1b0_0\n",
      "  - defaults/osx-64::conda==4.12.0=py39hecd8cb5_0\n",
      "  - defaults/noarch::seaborn==0.11.2=pyhd3eb1b0_0\n",
      "  - defaults/osx-64::_anaconda_depends==2021.11=py39_0\n",
      "  - defaults/osx-64::bokeh==2.4.1=py39hecd8cb5_0\n",
      "  - defaults/noarch::dask==2021.10.0=pyhd3eb1b0_0\n",
      "  - defaults/osx-64::anaconda==custom=py39_1\n",
      "  - defaults/osx-64::conda-build==3.21.5=py39hecd8cb5_0\n",
      "  - defaults/osx-64::widgetsnbextension==3.5.1=py39hecd8cb5_0\n",
      "  - defaults/noarch::anaconda-project==0.10.1=pyhd3eb1b0_0\n",
      "  - defaults/osx-64::clyent==1.2.2=py39hecd8cb5_1\n",
      "  - defaults/osx-64::matplotlib==3.4.3=py39hecd8cb5_0\n",
      "failed with initial frozen solve. Retrying with flexible solve.\n",
      "Solving environment: done\n",
      "Collecting package metadata (repodata.json): done\n",
      "Solving environment: / \n",
      "The environment is inconsistent, please check the package plan carefully\n",
      "The following packages are causing the inconsistency:\n",
      "\n",
      "  - defaults/noarch::conda-pack==0.6.0=pyhd3eb1b0_0\n",
      "  - defaults/noarch::jupyterlab_server==2.8.2=pyhd3eb1b0_0\n",
      "  - defaults/noarch::cookiecutter==1.7.2=pyhd3eb1b0_0\n",
      "  - defaults/osx-64::astroid==2.6.6=py39hecd8cb5_0\n",
      "  - defaults/osx-64::navigator-updater==0.2.1=py39hecd8cb5_0\n",
      "  - defaults/osx-64::numba==0.54.1=py39hae1ba45_0\n",
      "  - defaults/osx-64::jupyter==1.0.0=py39hecd8cb5_7\n",
      "  - defaults/osx-64::gevent==21.8.0=py39h9ed2024_1\n",
      "  - defaults/osx-64::zope.event==4.5.0=py39hecd8cb5_0\n",
      "  - defaults/noarch::nbclient==0.5.3=pyhd3eb1b0_0\n",
      "  - defaults/noarch::conda-repo-cli==1.0.4=pyhd3eb1b0_0\n",
      "  - defaults/noarch::backports.functools_lru_cache==1.6.4=pyhd3eb1b0_0\n",
      "  - defaults/osx-64::nbconvert==6.1.0=py39hecd8cb5_0\n",
      "  - defaults/noarch::nbclassic==0.2.6=pyhd3eb1b0_0\n",
      "  - defaults/noarch::pyls-spyder==0.4.0=pyhd3eb1b0_0\n",
      "  - defaults/osx-64::matplotlib-base==3.4.3=py39h0a11d32_0\n",
      "  - defaults/noarch::jinja2==2.11.3=pyhd3eb1b0_0\n",
      "  - defaults/osx-64::distributed==2021.10.0=py39hecd8cb5_0\n",
      "  - defaults/osx-64::notebook==6.4.5=py39hecd8cb5_0\n",
      "  - defaults/noarch::sphinx==4.2.0=pyhd3eb1b0_1\n",
      "  - defaults/noarch::numpydoc==1.1.0=pyhd3eb1b0_1\n",
      "  - defaults/osx-64::astropy==4.3.1=py39hf9932de_0\n",
      "  - defaults/noarch::conda-verify==3.4.2=py_1\n",
      "  - defaults/osx-64::anaconda-navigator==2.1.4=py39hecd8cb5_0\n",
      "  - defaults/osx-64::pytest==6.2.4=py39hecd8cb5_2\n",
      "  - defaults/noarch::jupyterlab_pygments==0.1.2=py_0\n",
      "  - defaults/noarch::qtawesome==1.0.2=pyhd3eb1b0_0\n",
      "  - defaults/noarch::jinja2-time==0.2.0=pyhd3eb1b0_2\n",
      "  - defaults/noarch::jupyter_console==6.4.0=pyhd3eb1b0_0\n",
      "  - defaults/osx-64::zope.interface==5.4.0=py39h9ed2024_0\n",
      "  - defaults/noarch::jsonschema==3.2.0=pyhd3eb1b0_2\n",
      "  - defaults/osx-64::anaconda-client==1.9.0=py39hecd8cb5_0\n",
      "  - defaults/osx-64::_ipyw_jlab_nb_ext_conf==0.1.0=py39hecd8cb5_0\n",
      "  - defaults/noarch::flask==1.1.2=pyhd3eb1b0_0\n",
      "  - defaults/osx-64::scikit-image==0.18.3=py39hae1ba45_0\n",
      "  - defaults/noarch::pygments==2.10.0=pyhd3eb1b0_0\n",
      "  - defaults/noarch::nbformat==5.1.3=pyhd3eb1b0_0\n",
      "  - defaults/noarch::jupyterlab==3.2.1=pyhd3eb1b0_1\n",
      "  - defaults/osx-64::pylint==2.9.6=py39hecd8cb5_1\n",
      "  - defaults/noarch::ipywidgets==7.6.5=pyhd3eb1b0_1\n",
      "  - defaults/osx-64::jupyter_server==1.4.1=py39hecd8cb5_0\n",
      "  - defaults/noarch::conda-token==0.3.0=pyhd3eb1b0_0\n",
      "  - defaults/osx-64::conda==4.12.0=py39hecd8cb5_0\n",
      "  - defaults/noarch::seaborn==0.11.2=pyhd3eb1b0_0\n",
      "  - defaults/osx-64::_anaconda_depends==2021.11=py39_0\n",
      "  - defaults/osx-64::bokeh==2.4.1=py39hecd8cb5_0\n",
      "  - defaults/noarch::dask==2021.10.0=pyhd3eb1b0_0\n",
      "  - defaults/osx-64::anaconda==custom=py39_1\n",
      "  - defaults/osx-64::conda-build==3.21.5=py39hecd8cb5_0\n",
      "  - defaults/osx-64::widgetsnbextension==3.5.1=py39hecd8cb5_0\n",
      "  - defaults/noarch::anaconda-project==0.10.1=pyhd3eb1b0_0\n",
      "  - defaults/osx-64::clyent==1.2.2=py39hecd8cb5_1\n",
      "  - defaults/osx-64::matplotlib==3.4.3=py39hecd8cb5_0\n",
      "done\n",
      "\n",
      "\n",
      "==> WARNING: A newer version of conda exists. <==\n",
      "  current version: 4.12.0\n",
      "  latest version: 22.9.0\n",
      "\n",
      "Please update conda by running\n",
      "\n",
      "    $ conda update -n base -c defaults conda\n",
      "\n",
      "\n",
      "\n",
      "## Package Plan ##\n",
      "\n",
      "  environment location: /Users/roja/opt/anaconda3\n",
      "\n",
      "  added / updated specs:\n",
      "    - numpy\n",
      "    - pyqtgraph\n",
      "    - scipy\n",
      "\n",
      "\n",
      "The following NEW packages will be INSTALLED:\n",
      "\n",
      "  autopep8           pkgs/main/noarch::autopep8-1.6.0-pyhd3eb1b0_1\n",
      "  black              pkgs/main/osx-64::black-22.6.0-py39hecd8cb5_0\n",
      "  flake8             pkgs/main/noarch::flake8-4.0.1-pyhd3eb1b0_1\n",
      "  ipykernel          pkgs/main/osx-64::ipykernel-6.15.2-py39hecd8cb5_0\n",
      "  ipython            pkgs/main/osx-64::ipython-7.31.1-py39hecd8cb5_1\n",
      "  jellyfish          pkgs/main/osx-64::jellyfish-0.9.0-py39hca72f7f_0\n",
      "  jupyter_client     pkgs/main/osx-64::jupyter_client-7.3.4-py39hecd8cb5_0\n",
      "  jupyter_core       pkgs/main/osx-64::jupyter_core-4.11.1-py39hecd8cb5_0\n",
      "  nest-asyncio       pkgs/main/osx-64::nest-asyncio-1.5.5-py39hecd8cb5_0\n",
      "  pathspec           pkgs/main/osx-64::pathspec-0.9.0-py39hecd8cb5_0\n",
      "  pip                pkgs/main/osx-64::pip-22.2.2-py39hecd8cb5_0\n",
      "  platformdirs       pkgs/main/osx-64::platformdirs-2.5.2-py39hecd8cb5_0\n",
      "  pluggy             pkgs/main/osx-64::pluggy-0.13.1-py39hecd8cb5_0\n",
      "  pycodestyle        pkgs/main/noarch::pycodestyle-2.8.0-pyhd3eb1b0_0\n",
      "  pyflakes           pkgs/main/noarch::pyflakes-2.4.0-pyhd3eb1b0_0\n",
      "  pyqtgraph          pkgs/main/noarch::pyqtgraph-0.11.0-py_0\n",
      "  python-lsp-black   pkgs/main/noarch::python-lsp-black-1.0.0-pyhd3eb1b0_0\n",
      "  python-lsp-server  pkgs/main/noarch::python-lsp-server-1.3.3-pyhd3eb1b0_0\n",
      "  pyzmq              pkgs/main/osx-64::pyzmq-23.2.0-py39he9d5cce_0\n",
      "  qtconsole          pkgs/main/noarch::qtconsole-5.2.2-pyhd3eb1b0_0\n",
      "  qtpy               pkgs/main/osx-64::qtpy-2.2.0-py39hecd8cb5_0\n",
      "  setuptools         pkgs/main/osx-64::setuptools-65.5.0-py39hecd8cb5_0\n",
      "  spyder             pkgs/main/osx-64::spyder-5.2.2-py39hecd8cb5_1\n",
      "  spyder-kernels     pkgs/main/osx-64::spyder-kernels-2.2.1-py39hecd8cb5_0\n",
      "  tomli              pkgs/main/osx-64::tomli-2.0.1-py39hecd8cb5_0\n",
      "  wheel              pkgs/main/noarch::wheel-0.37.1-pyhd3eb1b0_0\n",
      "\n",
      "The following packages will be UPDATED:\n",
      "\n",
      "  ca-certificates                      2022.3.29-hecd8cb5_1 --> 2022.10.11-hecd8cb5_0\n",
      "  certifi                          2021.10.8-py39hecd8cb5_2 --> 2022.9.24-py39hecd8cb5_0\n",
      "  openssl                                 1.1.1n-hca72f7f_0 --> 1.1.1s-hca72f7f_0\n",
      "  scipy                                1.7.1-py39h88652d9_2 --> 1.7.3-py39h8c7af03_0\n",
      "\n",
      "\n"
     ]
    },
    {
     "name": "stdout",
     "output_type": "stream",
     "text": [
      "Preparing transaction: done\n",
      "Verifying transaction: failed\n",
      "\n",
      "RemoveError: 'setuptools' is a dependency of conda and cannot be removed from\n",
      "conda's operating environment.\n",
      "\n",
      "\n",
      "Note: you may need to restart the kernel to use updated packages.\n"
     ]
    }
   ],
   "source": [
    "conda install numpy scipy pyqtgraph\n"
   ]
  },
  {
   "cell_type": "code",
   "execution_count": 26,
   "id": "add79afc",
   "metadata": {},
   "outputs": [
    {
     "name": "stdout",
     "output_type": "stream",
     "text": [
      "Requirement already satisfied: pyaudio in /Users/roja/opt/anaconda3/lib/python3.9/site-packages (0.2.12)\n",
      "Note: you may need to restart the kernel to use updated packages.\n"
     ]
    }
   ],
   "source": [
    "pip install pyaudio"
   ]
  },
  {
   "cell_type": "markdown",
   "id": "65517f18",
   "metadata": {},
   "source": [
    "### Another variation of code:"
   ]
  },
  {
   "cell_type": "code",
   "execution_count": 2,
   "id": "d285fb70",
   "metadata": {},
   "outputs": [
    {
     "name": "stdout",
     "output_type": "stream",
     "text": [
      "listening...\n",
      "hello I'm student\n"
     ]
    }
   ],
   "source": [
    "def hear():\n",
    "    import speech_recognition as sr\n",
    "    ear = sr.Recognizer()\n",
    "    with sr.Microphone() as sourse:\n",
    "        print(\"listening...\")\n",
    "        audio = ear.listen(sourse)\n",
    "        try:\n",
    "            text = ear.recognize_google(audio)\n",
    "            print(text)\n",
    "        except:\n",
    "            print(\"i didn't get that...\")\n",
    "\n",
    "hear()"
   ]
  },
  {
   "cell_type": "markdown",
   "id": "72455bff",
   "metadata": {},
   "source": [
    "### Report:\n",
    " \n",
    "Background: Speech recognition is the process of recognizing a speaker's series of words from an audio source. \n",
    "It is now among the widely used applications of AI.\n",
    "\n",
    "As an illustration, millions of users use speech recognition software every day to use voice mail, mobile websites, \n",
    "and other apps.\n",
    "\n",
    "Speech recognition is challenging and may not be completely accurate because a speaker's noises are ambiguous and, \n",
    "well, noisy.\n",
    "    \n",
    "Problem Statement: Under any programming language, compute speech recognize and print the spoken words into text.\n",
    "    \n",
    "Input Data: Audio clip is provided as input.\n",
    "    \n",
    "Method: Pre-requisites are installing packages, the following worked for mac, there are few other options for windows\n",
    "1. pip install SpeechRecognition\n",
    "2. conda install numpy scipy pyqtgraph\n",
    "3. pip install pyaudio\n",
    "4. pip install monotonic\n",
    "\n",
    "Once packages are installed, code the speech recognition program taking audio clip as input and \n",
    "printing the output as text. Run the program.\n",
    "    \n",
    "Code: As mentioned above.\n",
    "    \n",
    "Results Obtained: Got the text printed which is spoken by user or human.\n",
    "    "
   ]
  },
  {
   "cell_type": "code",
   "execution_count": null,
   "id": "06fedbfa",
   "metadata": {},
   "outputs": [],
   "source": []
  },
  {
   "cell_type": "code",
   "execution_count": null,
   "id": "5aed7165",
   "metadata": {},
   "outputs": [],
   "source": []
  },
  {
   "cell_type": "code",
   "execution_count": null,
   "id": "b9ef260f",
   "metadata": {},
   "outputs": [],
   "source": []
  },
  {
   "cell_type": "code",
   "execution_count": null,
   "id": "247b4759",
   "metadata": {},
   "outputs": [],
   "source": [
    "\n"
   ]
  },
  {
   "cell_type": "code",
   "execution_count": null,
   "id": "2a744a25",
   "metadata": {},
   "outputs": [],
   "source": []
  },
  {
   "cell_type": "code",
   "execution_count": null,
   "id": "86ed0e8b",
   "metadata": {},
   "outputs": [],
   "source": []
  },
  {
   "cell_type": "code",
   "execution_count": null,
   "id": "f595c861",
   "metadata": {},
   "outputs": [],
   "source": []
  },
  {
   "cell_type": "code",
   "execution_count": null,
   "id": "2fd6ecc8",
   "metadata": {},
   "outputs": [],
   "source": []
  },
  {
   "cell_type": "code",
   "execution_count": null,
   "id": "54f63931",
   "metadata": {},
   "outputs": [],
   "source": []
  },
  {
   "cell_type": "code",
   "execution_count": null,
   "id": "b952dd68",
   "metadata": {},
   "outputs": [],
   "source": []
  },
  {
   "cell_type": "code",
   "execution_count": null,
   "id": "30b874a5",
   "metadata": {},
   "outputs": [],
   "source": [
    "\n"
   ]
  }
 ],
 "metadata": {
  "kernelspec": {
   "display_name": "Python 3 (ipykernel)",
   "language": "python",
   "name": "python3"
  },
  "language_info": {
   "codemirror_mode": {
    "name": "ipython",
    "version": 3
   },
   "file_extension": ".py",
   "mimetype": "text/x-python",
   "name": "python",
   "nbconvert_exporter": "python",
   "pygments_lexer": "ipython3",
   "version": "3.9.7"
  }
 },
 "nbformat": 4,
 "nbformat_minor": 5
}
