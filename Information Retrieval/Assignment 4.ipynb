{
 "cells": [
  {
   "cell_type": "markdown",
   "id": "9e0e3a24",
   "metadata": {},
   "source": [
    "## Problem Statement:\n",
    "    \n",
    "The k-nearest neighbors algorithm, sometimes referred to as KNN or k-NN, is a non-parametric, supervised learning \n",
    "classifier that relies on closeness to produce classifications or predictions about the grouping of a single data \n",
    "point. It can be applied to classification or regression issues, although it is most frequently employed as a \n",
    "classification technique because it relies on the idea that comparable points can be discovered close to one another.\n",
    "\n",
    "We need to try some values to find best value for K, however, K=5 is preferred because lower than that can be noisy\n",
    "and lead to outliers in the model which does not hold good.\n",
    "\n",
    "Here, it is a KNN Classifier problem where given the values, finds the K nearest objects to the query object. \n",
    "Basically finding the locations of points that are closer to the query point than any other point in the set is the \n",
    "difficulty. Using matplotlib we tried to plot the graph and visualize the positions of the point that is near to \n",
    "the query point.\n"
   ]
  },
  {
   "cell_type": "code",
   "execution_count": 1,
   "id": "3e7ddea3",
   "metadata": {},
   "outputs": [
    {
     "data": {
      "text/plain": [
       "[(4, 21),\n",
       " (5, 19),\n",
       " (10, 24),\n",
       " (4, 17),\n",
       " (3, 16),\n",
       " (11, 25),\n",
       " (14, 24),\n",
       " (8, 22),\n",
       " (10, 21),\n",
       " (12, 21)]"
      ]
     },
     "execution_count": 1,
     "metadata": {},
     "output_type": "execute_result"
    }
   ],
   "source": [
    "# Assignment 4 !!!!\n",
    "\n",
    "import matplotlib.pyplot as plt \n",
    "from sklearn.neighbors import KNeighborsClassifier\n",
    "import scipy.stats\n",
    "import numpy as np\n",
    "\n",
    "# Values in the form of arrays, from the ppt\n",
    "x = [4, 5, 10, 4, 3, 11, 14 , 8, 10, 12] \n",
    "y = [21, 19, 24, 17, 16, 25, 24, 22, 21, 21] \n",
    "classes = [0, 0, 1, 0, 0, 1, 1, 0, 1, 1] \n",
    "\n",
    "# Here we are printing the x, y values together as co-oridates in the graph\n",
    "data = list(zip(x, y)) \n",
    "data\n"
   ]
  },
  {
   "cell_type": "code",
   "execution_count": 2,
   "id": "b95b5b92",
   "metadata": {},
   "outputs": [
    {
     "data": {
      "text/plain": [
       "KNeighborsClassifier(n_neighbors=3)"
      ]
     },
     "execution_count": 2,
     "metadata": {},
     "output_type": "execute_result"
    }
   ],
   "source": [
    "# Based on the document scores and target class, we fit KNN method for 3 nearest neighbor: \n",
    "\n",
    "knn = KNeighborsClassifier(n_neighbors=3) \n",
    "knn.fit(data, classes) \n"
   ]
  },
  {
   "cell_type": "code",
   "execution_count": 3,
   "id": "93e41e1b",
   "metadata": {},
   "outputs": [
    {
     "data": {
      "text/plain": [
       "KNeighborsClassifier(n_neighbors=1)"
      ]
     },
     "execution_count": 3,
     "metadata": {},
     "output_type": "execute_result"
    }
   ],
   "source": [
    "# Based on the document scores and target class, we fit KNN method for 1 nearest neighbor: \n",
    "\n",
    "knn = KNeighborsClassifier(n_neighbors=1) \n",
    "knn.fit(data, classes) "
   ]
  },
  {
   "cell_type": "code",
   "execution_count": 4,
   "id": "57c3df7a",
   "metadata": {},
   "outputs": [
    {
     "data": {
      "text/plain": [
       "ModeResult(mode=array([0]), count=array([5]))"
      ]
     },
     "execution_count": 4,
     "metadata": {},
     "output_type": "execute_result"
    }
   ],
   "source": [
    "# You can compute the mode using the SciPy mode() function\n",
    "\n",
    "scipy.stats.mode(classes)"
   ]
  },
  {
   "cell_type": "code",
   "execution_count": 5,
   "id": "654c0392",
   "metadata": {},
   "outputs": [
    {
     "name": "stdout",
     "output_type": "stream",
     "text": [
      "[0]\n"
     ]
    }
   ],
   "source": [
    "# take new X and Y arrays values, then redict knn on new document score to obtain a class of 0 or 1\n",
    "# Basically applying same KNN object to identify the class of new, unforeseen documents\n",
    "\n",
    "new_x = 8 \n",
    "new_y = 21 \n",
    "new_point = [(new_x, new_y)] \n",
    "prediction = knn.predict(new_point) \n",
    "print(prediction) \n",
    "\n"
   ]
  },
  {
   "cell_type": "code",
   "execution_count": 6,
   "id": "1cc4b210",
   "metadata": {},
   "outputs": [
    {
     "data": {
      "image/png": "[encoded data removed]",
      "text/plain": [
       "<Figure size 432x288 with 1 Axes>"
      ]
     },
     "metadata": {
      "needs_background": "light"
     },
     "output_type": "display_data"
    }
   ],
   "source": [
    "# plotting graph\n",
    "\n",
    "plt.scatter(x + [new_x], y + [new_y], c=classes + [prediction[0]]) \n",
    "plt.text(x=new_x-1.2, y=new_y-0.8, s=f\"new point, class: {prediction[0]}\") \n",
    "plt.show() \n",
    "\n"
   ]
  },
  {
   "cell_type": "code",
   "execution_count": 7,
   "id": "a59ae644",
   "metadata": {},
   "outputs": [
    {
     "name": "stdout",
     "output_type": "stream",
     "text": [
      "[1]\n"
     ]
    }
   ],
   "source": [
    "# when we vary the number of neighbors to 5, the number of scores used to classify our new document score changes \n",
    "\n",
    "knn = KNeighborsClassifier(n_neighbors=5) \n",
    "knn.fit(data, classes) \n",
    "prediction = knn.predict(new_point) \n",
    "print(prediction) \n",
    "\n"
   ]
  },
  {
   "cell_type": "code",
   "execution_count": 8,
   "id": "4d15809b",
   "metadata": {},
   "outputs": [
    {
     "data": {
      "image/png": "[encoded data removed]",
      "text/plain": [
       "<Figure size 432x288 with 1 Axes>"
      ]
     },
     "metadata": {
      "needs_background": "light"
     },
     "output_type": "display_data"
    }
   ],
   "source": [
    "# plotting graph\n",
    "\n",
    "plt.scatter(x + [new_x], y + [new_y], c=classes + [prediction[0]]) \n",
    "plt.text(x=new_x-1.7, y=new_y-0.7, s=f\"new point, class: {prediction[0]}\") \n",
    "plt.show() "
   ]
  },
  {
   "cell_type": "code",
   "execution_count": 9,
   "id": "4e09e7c8",
   "metadata": {},
   "outputs": [],
   "source": [
    "# Change of code and dataset"
   ]
  },
  {
   "cell_type": "markdown",
   "id": "4c8b9d41",
   "metadata": {},
   "source": [
    "### Supervised Learning :\n",
    "It is the learning where the value or result that we want to predict is within the training data (labeled data) and the value which is in data that we want to study is known as Target or Dependent Variable or Response\n",
    "\n",
    "Supervised Learning is classified into two categories:\n",
    "\n",
    "Classification: Here our target variable consists of the categories. Regression: Here our target variable is continuous and we usually try to find out the line of the curve.\n",
    "\n",
    "Larger k value means smother curves of separation resulting in less complex models. Whereas, smaller k value tends to overfit the data and resulting in complex models.\n",
    "\n",
    "Note: It’s very important to have the right k-value when analyzing the dataset to avoid overfitting and underfitting of the dataset.\n",
    "\n",
    "Using the k-nearest neighbor algorithm we fit the historical data (or train the model) and predict the future.\n",
    "\n",
    "In the example shown below following steps are performed:\n",
    "\n",
    "The k-nearest neighbor algorithm is imported from the scikit-learn package.\n",
    "Create feature and target variables.\n",
    "Split data into training and test data.\n",
    "Generate a k-NN model using neighbors value.\n",
    "Train or fit the data into the model.\n",
    "Predict the future.\n",
    "Import necessary modules"
   ]
  },
  {
   "cell_type": "code",
   "execution_count": 11,
   "id": "6ed659c4",
   "metadata": {},
   "outputs": [
    {
     "name": "stdout",
     "output_type": "stream",
     "text": [
      "[1 0 2 1 1 0 1 2 2 1 2 0 0 0 0 1 2 1 1 2 0 2 0 2 2 2 2 2 0 0]\n",
      "0.9666666666666667\n"
     ]
    }
   ],
   "source": [
    "from sklearn.neighbors import KNeighborsClassifier\n",
    "from sklearn.model_selection import train_test_split\n",
    "from sklearn.datasets import load_iris\n",
    "  \n",
    "# Loading data\n",
    "irisData = load_iris()\n",
    "  \n",
    "# Create feature and target arrays\n",
    "x = irisData.data\n",
    "y = irisData.target\n",
    "  \n",
    "# Split into training and test set (0.2 means 20% data considered as test data)\n",
    "x_train, x_test, y_train, y_test = train_test_split(\n",
    "             x, y, test_size = 0.2, random_state=42)\n",
    "  \n",
    "knn = KNeighborsClassifier(n_neighbors=7)\n",
    "  \n",
    "knn.fit(x_train, y_train)\n",
    "  \n",
    "# Predict on dataset which model has not seen before\n",
    "print(knn.predict(x_test))\n",
    "\n",
    "# We have seen how we can use K-NN algorithm to solve the supervised machine learning problem above. \n",
    "# But how to measure the accuracy of the model?\n",
    "# Consider an example shown below where we predicted the performance of the above model:\n",
    "    \n",
    "# Calculate the accuracy of the model\n",
    "print(knn.score(x_test, y_test))\n"
   ]
  },
  {
   "cell_type": "code",
   "execution_count": 13,
   "id": "e9058fff",
   "metadata": {},
   "outputs": [
    {
     "data": {
      "image/png": "[encoded data removed]",
      "text/plain": [
       "<Figure size 432x288 with 1 Axes>"
      ]
     },
     "metadata": {
      "needs_background": "light"
     },
     "output_type": "display_data"
    }
   ],
   "source": [
    "# To obtain model accuracy\n",
    "# So far so good. But how to decide the right k-value for the dataset? Obviously, \n",
    "# we need to be familiar to data to get the range of expected k-value, \n",
    "# but to get the exact k-value we need to test the model for each and every expected k-value. \n",
    "# Refer the below example.\n",
    "\n",
    "neighbors = np.arange(1, 9)\n",
    "train_accuracy = np.empty(len(neighbors))\n",
    "test_accuracy = np.empty(len(neighbors))\n",
    "  \n",
    "# Loop over K values\n",
    "for i, k in enumerate(neighbors):\n",
    "    knn = KNeighborsClassifier(n_neighbors=k)\n",
    "    knn.fit(x_train, y_train)\n",
    "      \n",
    "    # Compute training and test data accuracy\n",
    "    train_accuracy[i] = knn.score(x_train, y_train)\n",
    "    test_accuracy[i] = knn.score(x_test, y_test)\n",
    "  \n",
    "# Generate plot\n",
    "plt.plot(neighbors, test_accuracy, label = 'Testing dataset Accuracy')\n",
    "plt.plot(neighbors, train_accuracy, label = 'Training dataset Accuracy')\n",
    "  \n",
    "plt.legend()\n",
    "plt.xlabel('n_neighbors')\n",
    "plt.ylabel('Accuracy')\n",
    "plt.show()"
   ]
  },
  {
   "cell_type": "code",
   "execution_count": null,
   "id": "7d36bb17",
   "metadata": {},
   "outputs": [],
   "source": []
  }
 ],
 "metadata": {
  "kernelspec": {
   "display_name": "Python 3 (ipykernel)",
   "language": "python",
   "name": "python3"
  },
  "language_info": {
   "codemirror_mode": {
    "name": "ipython",
    "version": 3
   },
   "file_extension": ".py",
   "mimetype": "text/x-python",
   "name": "python",
   "nbconvert_exporter": "python",
   "pygments_lexer": "ipython3",
   "version": "3.9.7"
  }
 },
 "nbformat": 4,
 "nbformat_minor": 5
}
