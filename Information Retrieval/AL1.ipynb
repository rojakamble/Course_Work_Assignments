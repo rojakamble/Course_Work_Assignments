{
 "cells": [
  {
   "cell_type": "code",
   "execution_count": 13,
   "id": "3e7ddea3",
   "metadata": {},
   "outputs": [
    {
     "data": {
      "text/plain": [
       "[(4, 25),\n",
       " (8, 22),\n",
       " (12, 24),\n",
       " (4, 19),\n",
       " (3, 16),\n",
       " (11, 25),\n",
       " (16, 24),\n",
       " (18, 20),\n",
       " (10, 21),\n",
       " (14, 23)]"
      ]
     },
     "execution_count": 13,
     "metadata": {},
     "output_type": "execute_result"
    }
   ],
   "source": [
    "# Assignment 4 - Active In-Class Learning!!!!\n",
    "\n",
    "import matplotlib.pyplot as plt \n",
    "from sklearn.neighbors import KNeighborsClassifier \n",
    "\n",
    "# Values from ppt are changed as per my input\n",
    "x = [4, 8, 12, 4, 3, 11, 16 , 18, 10, 14] \n",
    "y = [25, 22, 24, 19, 16, 25, 24, 20, 21, 23] \n",
    "classes = [0, 1, 1, 0, 0, 1, 1, 0, 0, 0] \n",
    "\n",
    "# Here we are printing the x, y values together as co-oridates in the graph\n",
    "data = list(zip(x, y)) \n",
    "data\n",
    "\n",
    "\n"
   ]
  },
  {
   "cell_type": "code",
   "execution_count": 14,
   "id": "b95b5b92",
   "metadata": {},
   "outputs": [
    {
     "data": {
      "text/plain": [
       "KNeighborsClassifier(n_neighbors=1)"
      ]
     },
     "execution_count": 14,
     "metadata": {},
     "output_type": "execute_result"
    }
   ],
   "source": [
    "# Based on the document scores and target class, we fit KNN method for 1 nearest neighbor: \n",
    "\n",
    "knn = KNeighborsClassifier(n_neighbors=1) \n",
    "knn.fit(data, classes) \n",
    "\n"
   ]
  },
  {
   "cell_type": "code",
   "execution_count": 15,
   "id": "654c0392",
   "metadata": {},
   "outputs": [
    {
     "name": "stdout",
     "output_type": "stream",
     "text": [
      "[1]\n"
     ]
    }
   ],
   "source": [
    "# take new X and Y arrays values, then redict knn on new document score to obtain a calss of 0 or 1\n",
    "# Basically applying same KNN object to identify the class of new, unforeseen documents\n",
    "\n",
    "new_x = 8 \n",
    "new_y = 21 \n",
    "new_point = [(new_x, new_y)] \n",
    "prediction = knn.predict(new_point) \n",
    "print(prediction) \n",
    "\n"
   ]
  },
  {
   "cell_type": "code",
   "execution_count": 16,
   "id": "1cc4b210",
   "metadata": {},
   "outputs": [
    {
     "data": {
      "image/png": "[encoded data removed]",
      "text/plain": [
       "<Figure size 432x288 with 1 Axes>"
      ]
     },
     "metadata": {
      "needs_background": "light"
     },
     "output_type": "display_data"
    }
   ],
   "source": [
    "# plotting graph\n",
    "\n",
    "plt.scatter(x + [new_x], y + [new_y], c=classes + [prediction[0]]) \n",
    "plt.text(x=new_x-1.7, y=new_y-0.7, s=f\"new point, class: {prediction[0]}\") \n",
    "plt.show() \n",
    "\n"
   ]
  },
  {
   "cell_type": "code",
   "execution_count": 17,
   "id": "a59ae644",
   "metadata": {},
   "outputs": [
    {
     "name": "stdout",
     "output_type": "stream",
     "text": [
      "[1]\n"
     ]
    }
   ],
   "source": [
    "# when we vary the number of neighbors to 5, the number of scores used to classify our new document score changes \n",
    "\n",
    "knn = KNeighborsClassifier(n_neighbors=5) \n",
    "knn.fit(data, classes) \n",
    "prediction = knn.predict(new_point) \n",
    "print(prediction) \n",
    "\n"
   ]
  },
  {
   "cell_type": "code",
   "execution_count": 18,
   "id": "4d15809b",
   "metadata": {},
   "outputs": [
    {
     "data": {
      "image/png": "[encoded data removed]",
      "text/plain": [
       "<Figure size 432x288 with 1 Axes>"
      ]
     },
     "metadata": {
      "needs_background": "light"
     },
     "output_type": "display_data"
    }
   ],
   "source": [
    "# plotting graph\n",
    "\n",
    "plt.scatter(x + [new_x], y + [new_y], c=classes + [prediction[0]]) \n",
    "plt.text(x=new_x-1.7, y=new_y-0.7, s=f\"new point, class: {prediction[0]}\") \n",
    "plt.show() "
   ]
  }
 ],
 "metadata": {
  "kernelspec": {
   "display_name": "Python 3 (ipykernel)",
   "language": "python",
   "name": "python3"
  },
  "language_info": {
   "codemirror_mode": {
    "name": "ipython",
    "version": 3
   },
   "file_extension": ".py",
   "mimetype": "text/x-python",
   "name": "python",
   "nbconvert_exporter": "python",
   "pygments_lexer": "ipython3",
   "version": "3.9.7"
  }
 },
 "nbformat": 4,
 "nbformat_minor": 5
}
