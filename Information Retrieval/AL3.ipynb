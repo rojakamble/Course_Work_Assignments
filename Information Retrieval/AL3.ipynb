{
 "cells": [
  {
   "cell_type": "markdown",
   "id": "41e08eb4",
   "metadata": {},
   "source": [
    "## Using any sorting technique, sort random numbers having your own range specified, and display the top 10 results. [Least time complexity is preferrable]"
   ]
  },
  {
   "cell_type": "code",
   "execution_count": 40,
   "id": "1f254d2c",
   "metadata": {},
   "outputs": [
    {
     "name": "stdout",
     "output_type": "stream",
     "text": [
      "[1049, 896, 501, 19, 607, 91, 684, 327, 768, 915, 871, 632, 1386, 1269, 470, 9, 261, 737, 300, 1259, 611, 754, 771, 73, 1219, 190, 702, 498, 931, 900, 774, 1109, 1461, 891, 465, 1077, 717, 306, 263, 148, 687, 803, 1062, 716, 1268, 1186, 224, 1014, 200, 733]\n"
     ]
    }
   ],
   "source": [
    "import random\n",
    "\n",
    "values = random.sample(range(1, 1500), 50)\n",
    "print(values)"
   ]
  },
  {
   "cell_type": "code",
   "execution_count": 41,
   "id": "9fb14527",
   "metadata": {},
   "outputs": [
    {
     "name": "stdout",
     "output_type": "stream",
     "text": [
      "The array after sorting in Ascending Order by selection sort is:\n",
      "[9, 19, 73, 91, 148, 190, 200, 224, 261, 263, 300, 306, 327, 465, 470, 498, 501, 607, 611, 632, 684, 687, 702, 716, 717, 733, 737, 754, 768, 771, 774, 803, 871, 891, 896, 900, 915, 931, 1014, 1049, 1062, 1077, 1109, 1186, 1219, 1259, 1268, 1269, 1386, 1461]\n",
      "\n",
      "\n",
      "The array after sorting having top 10 results in Ascending Order by selection sort is:\n",
      "[9, 19, 73, 91, 148, 190, 200, 224, 261, 263]\n"
     ]
    }
   ],
   "source": [
    "# Selection sort in Python\n",
    "# time complexity O(n*n)\n",
    "\n",
    "\n",
    "def selectionSort(array, size):\n",
    "    \n",
    "    for ind in range(size):\n",
    "        min_index = ind\n",
    " \n",
    "        for j in range(ind + 1, size):\n",
    "            \n",
    "            if array[j] < array[min_index]:\n",
    "                min_index = j\n",
    "        \n",
    "        (array[ind], array[min_index]) = (array[min_index], array[ind])\n",
    "arr = values\n",
    "\n",
    "size = len(arr)\n",
    "selectionSort(arr, size)\n",
    "\n",
    "print('The array after sorting in Ascending Order by selection sort is:')\n",
    "print(arr)\n",
    "\n",
    "print(\"\\n\")\n",
    "\n",
    "print('The array after sorting having top 10 results in Ascending Order by selection sort is:')\n",
    "print(arr[:10])\n",
    "\n"
   ]
  },
  {
   "cell_type": "code",
   "execution_count": 43,
   "id": "4a5dca94",
   "metadata": {},
   "outputs": [
    {
     "name": "stdout",
     "output_type": "stream",
     "text": [
      "Sorted array is : \n",
      "[9, 19, 73, 91, 148, 190, 200, 224, 261, 263, 300, 306, 327, 465, 470, 498, 501, 607, 611, 632, 684, 687, 702, 716, 717, 733, 737, 754, 768, 771, 774, 803, 871, 891, 896, 900, 915, 931, 1014, 1049, 1062, 1077, 1109, 1186, 1219, 1259, 1268, 1269, 1386, 1461]\n",
      "\n",
      "\n",
      "Sorted array of top 10 results are : \n",
      "[9, 19, 73, 91, 148, 190, 200, 224, 261, 263]\n"
     ]
    }
   ],
   "source": [
    "# Insertion sort in Python\n",
    "# time complexity O(n)\n",
    "\n",
    "def insertionSort(arr):\n",
    " \n",
    "    for i in range(1, len(arr)):\n",
    " \n",
    "        key = arr[i]\n",
    "        j = i-1\n",
    "        while j >=0 and key < arr[j] :\n",
    "                arr[j+1] = arr[j]\n",
    "                j -= 1\n",
    "        arr[j+1] = key\n",
    " \n",
    " \n",
    "\n",
    "arr = values\n",
    "insertionSort(arr)\n",
    "lst = [] \n",
    "print(\"Sorted array is : \")\n",
    "for i in range(len(arr)):\n",
    "    lst.append(arr[i])    \n",
    "print(lst)\n",
    "\n",
    "print(\"\\n\")\n",
    "\n",
    "print(\"Sorted array of top 10 results are : \")\n",
    "for i in range(len(arr)):\n",
    "    lst.append(arr[i])    \n",
    "print(lst[:10])"
   ]
  },
  {
   "cell_type": "code",
   "execution_count": 50,
   "id": "47177000",
   "metadata": {},
   "outputs": [
    {
     "name": "stdout",
     "output_type": "stream",
     "text": [
      "Original Array:  [9, 19, 73, 91, 148, 190, 200, 224, 261, 263, 300, 306, 327, 465, 470, 498, 501, 607, 611, 632, 684, 687, 702, 716, 717, 733, 737, 754, 768, 771, 774, 803, 871, 891, 896, 900, 915, 931, 1014, 1049, 1062, 1077, 1109, 1186, 1219, 1259, 1268, 1269, 1386, 1461]\n",
      "\n",
      "\n",
      "Sorted Array:  [9, 19, 73, 91, 148, 190, 200, 224, 261, 263]\n"
     ]
    }
   ],
   "source": [
    "# Quick sort in Python\n",
    "# time complexity O(n log n)\n",
    "\n",
    "def QuickSort(arr):\n",
    "\n",
    "    elements = len(arr)\n",
    "    \n",
    "    if elements < 2:\n",
    "        return arr\n",
    "    \n",
    "    current_position = 0 \n",
    "\n",
    "    for i in range(1, elements): \n",
    "         if arr[i] <= arr[0]:\n",
    "              current_position += 1\n",
    "              temp = arr[i]\n",
    "              arr[i] = arr[current_position]\n",
    "              arr[current_position] = temp\n",
    "\n",
    "    temp = arr[0]\n",
    "    arr[0] = arr[current_position] \n",
    "    arr[current_position] = temp \n",
    "    \n",
    "    left = QuickSort(arr[0:current_position]) \n",
    "    right = QuickSort(arr[current_position+1:elements]) \n",
    "\n",
    "    arr = left + [arr[current_position]] + right \n",
    "    \n",
    "    return arr\n",
    "\n",
    "array_to_be_sorted = values\n",
    "print(\"Original Array: \",array_to_be_sorted)\n",
    "print(\"\\n\")\n",
    "print(\"Sorted Array: \",QuickSort(array_to_be_sorted[:10]))"
   ]
  },
  {
   "cell_type": "markdown",
   "id": "89c6b320",
   "metadata": {},
   "source": [
    "### Hence, quicksort is considered as fastest sorting algorithm and best performance algorithm."
   ]
  },
  {
   "cell_type": "code",
   "execution_count": null,
   "id": "4e758f8b",
   "metadata": {},
   "outputs": [],
   "source": []
  }
 ],
 "metadata": {
  "kernelspec": {
   "display_name": "Python 3 (ipykernel)",
   "language": "python",
   "name": "python3"
  },
  "language_info": {
   "codemirror_mode": {
    "name": "ipython",
    "version": 3
   },
   "file_extension": ".py",
   "mimetype": "text/x-python",
   "name": "python",
   "nbconvert_exporter": "python",
   "pygments_lexer": "ipython3",
   "version": "3.9.7"
  }
 },
 "nbformat": 4,
 "nbformat_minor": 5
}
