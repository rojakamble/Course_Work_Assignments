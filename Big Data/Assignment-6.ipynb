{
 "cells": [
  {
   "cell_type": "markdown",
   "id": "4deaa193",
   "metadata": {},
   "source": [
    "# Assignment 6: Data Frames\n",
    "\n",
    "Repeat Assignment 5 using DataFrame in PySpark\n",
    "\n",
    " \n",
    "\n",
    "Write the following programs in the Jupyter Notebook. For help with the assignment, you can use the tutorials linked to the course calendar Save your completed notebook as a .ipynb file as well as a .pdf file and submit them to Canvas->Assignments->Assignment 5: Data Frames PySpark\n",
    "\n",
    " \n",
    "\n",
    "For this assignment you may need to install PySpark on your laptop. Please review lecture notes for additional information.\n",
    "\n",
    " \n",
    "\n",
    "Data Frames Primer\n",
    "\n",
    "In this primer, we will study a classic data set - the survivors in the sinking of the Titanic. As there were limited lifeboats, decisions were made prioritizing who would and would not survive. We will observe how different factors such as age, sex, and class affected a person’s chance of survival using data frames.\n",
    "\n",
    " \n",
    "\n",
    "\n",
    "\n",
    " "
   ]
  },
  {
   "cell_type": "markdown",
   "id": "4a630842",
   "metadata": {},
   "source": [
    "# 1] Input the following data into a data frame called titanic, and display the entire data frame:\n",
    " Sex, Class, Survived, Died\n",
    "\n",
    " Children, First, 6, 0\n",
    "\n",
    " Children, Second, 24, 0\n",
    "\n",
    " Children, Third, 27, 52\n",
    "\n",
    " Men, First, 57, 118\n",
    "\n",
    " Men, Second, 14, 154\n",
    "\n",
    " Men, Third, 75, 387\n",
    "\n",
    " Men, Crew, 192, 693\n",
    "\n",
    " Women, First, 140, 4\n",
    "\n",
    " Women, Second, 80, 13\n",
    "\n",
    " Women, Third, 76, 89\n",
    "\n",
    " Women, Crew, 20, 3 \n",
    "\n",
    " \n",
    "\n",
    "\n",
    " "
   ]
  },
  {
   "cell_type": "code",
   "execution_count": 2,
   "id": "d793bb8d",
   "metadata": {},
   "outputs": [
    {
     "name": "stdout",
     "output_type": "stream",
     "text": [
      "+--------+------+--------+----+\n",
      "|     Sex| Class|Survived|Died|\n",
      "+--------+------+--------+----+\n",
      "|Children| First|       6|   0|\n",
      "|Children|Second|      24|   0|\n",
      "|Children| Third|      27|  52|\n",
      "|     Men| First|      57| 118|\n",
      "|     Men|Second|      14| 154|\n",
      "|     Men| Third|      75| 387|\n",
      "|     Men|  Crew|     192| 693|\n",
      "|   Women| First|     140|   4|\n",
      "|   Women|Second|      80|  13|\n",
      "|   Women| Third|      76|  89|\n",
      "|   Women|  Crew|      20|   3|\n",
      "+--------+------+--------+----+\n",
      "\n"
     ]
    }
   ],
   "source": [
    "import pyspark\n",
    "from pyspark.sql import SparkSession\n",
    "spark = SparkSession.builder.getOrCreate()\n",
    "\n",
    "from pyspark.sql import functions as F\n",
    "from pyspark.sql.types import StructType,StructField, StringType, IntegerType\n",
    "titanic = [('Children','First',6,0),('Children','Second',24,0),('Children','Third',27,52),\n",
    " ('Men','First',57,118),('Men','Second',14,154),\n",
    " ('Men','Third',75,387),('Men','Crew',192,693),\n",
    " ('Women','First',140,4),('Women','Second',80,13),\n",
    " ('Women','Third',76,89),('Women','Crew',20,3)]\n",
    "schema = StructType([\\\n",
    " StructField(('Sex'),StringType(),True),\\\n",
    " StructField(('Class'),StringType(),True),\\\n",
    " StructField(('Survived'),IntegerType(),True),\\\n",
    " StructField(('Died'),IntegerType(),True)])\n",
    "df = spark.createDataFrame(data=titanic,schema=schema)\n",
    "\n",
    "df.show()"
   ]
  },
  {
   "cell_type": "markdown",
   "id": "5a345c4e",
   "metadata": {},
   "source": [
    "# 2] Delete the crew members from the data.\n",
    " \n",
    "\n"
   ]
  },
  {
   "cell_type": "code",
   "execution_count": 3,
   "id": "7cb5eba3",
   "metadata": {},
   "outputs": [
    {
     "name": "stdout",
     "output_type": "stream",
     "text": [
      "+--------+------+--------+----+\n",
      "|     Sex| Class|Survived|Died|\n",
      "+--------+------+--------+----+\n",
      "|Children| First|       6|   0|\n",
      "|Children|Second|      24|   0|\n",
      "|Children| Third|      27|  52|\n",
      "|     Men| First|      57| 118|\n",
      "|     Men|Second|      14| 154|\n",
      "|     Men| Third|      75| 387|\n",
      "|   Women| First|     140|   4|\n",
      "|   Women|Second|      80|  13|\n",
      "|   Women| Third|      76|  89|\n",
      "+--------+------+--------+----+\n",
      "\n"
     ]
    }
   ],
   "source": [
    "df_new = df.filter(F.col('Class')!='Crew')\n",
    "df_new.show()"
   ]
  },
  {
   "cell_type": "markdown",
   "id": "f99674c1",
   "metadata": {},
   "source": [
    "# 3] Create a new column that is the total number of people for that group (those who survived + died).\n",
    " \n",
    "\n"
   ]
  },
  {
   "cell_type": "code",
   "execution_count": 4,
   "id": "d31d750c",
   "metadata": {},
   "outputs": [
    {
     "name": "stdout",
     "output_type": "stream",
     "text": [
      "+--------+------+--------+----+-----+\n",
      "|     Sex| Class|Survived|Died|Total|\n",
      "+--------+------+--------+----+-----+\n",
      "|Children| First|       6|   0|    6|\n",
      "|Children|Second|      24|   0|   24|\n",
      "|Children| Third|      27|  52|   79|\n",
      "|     Men| First|      57| 118|  175|\n",
      "|     Men|Second|      14| 154|  168|\n",
      "|     Men| Third|      75| 387|  462|\n",
      "|   Women| First|     140|   4|  144|\n",
      "|   Women|Second|      80|  13|   93|\n",
      "|   Women| Third|      76|  89|  165|\n",
      "+--------+------+--------+----+-----+\n",
      "\n"
     ]
    }
   ],
   "source": [
    "df_new.withColumn('Total',df['Survived']+df['Died']).show()\n"
   ]
  },
  {
   "cell_type": "markdown",
   "id": "dd929605",
   "metadata": {},
   "source": [
    "# 4] Delete the column indicating the total number of people in that group.\n",
    " \n",
    "\n"
   ]
  },
  {
   "cell_type": "code",
   "execution_count": 5,
   "id": "2fdfabf7",
   "metadata": {},
   "outputs": [
    {
     "name": "stdout",
     "output_type": "stream",
     "text": [
      "+--------+------+--------+----+\n",
      "|     Sex| Class|Survived|Died|\n",
      "+--------+------+--------+----+\n",
      "|Children| First|       6|   0|\n",
      "|Children|Second|      24|   0|\n",
      "|Children| Third|      27|  52|\n",
      "|     Men| First|      57| 118|\n",
      "|     Men|Second|      14| 154|\n",
      "|     Men| Third|      75| 387|\n",
      "|     Men|  Crew|     192| 693|\n",
      "|   Women| First|     140|   4|\n",
      "|   Women|Second|      80|  13|\n",
      "|   Women| Third|      76|  89|\n",
      "|   Women|  Crew|      20|   3|\n",
      "+--------+------+--------+----+\n",
      "\n"
     ]
    }
   ],
   "source": [
    "new_titanic=df.drop('Total')\n",
    "new_titanic.show()"
   ]
  },
  {
   "cell_type": "markdown",
   "id": "525e2dd1",
   "metadata": {},
   "source": [
    "# 5] Only show the rows where more than 80% of the people survived."
   ]
  },
  {
   "cell_type": "code",
   "execution_count": 6,
   "id": "a15fc091",
   "metadata": {},
   "outputs": [
    {
     "name": "stdout",
     "output_type": "stream",
     "text": [
      "+--------+------+--------+----+\n",
      "|     Sex| Class|Survived|Died|\n",
      "+--------+------+--------+----+\n",
      "|Children| First|       6|   0|\n",
      "|Children|Second|      24|   0|\n",
      "|   Women| First|     140|   4|\n",
      "|   Women|Second|      80|  13|\n",
      "+--------+------+--------+----+\n",
      "\n"
     ]
    }
   ],
   "source": [
    "df_new.where(\"Survived>(Survived+Died)*0.8\").show()"
   ]
  },
  {
   "cell_type": "code",
   "execution_count": null,
   "id": "12375e81",
   "metadata": {},
   "outputs": [],
   "source": []
  }
 ],
 "metadata": {
  "kernelspec": {
   "display_name": "Python 3 (ipykernel)",
   "language": "python",
   "name": "python3"
  },
  "language_info": {
   "codemirror_mode": {
    "name": "ipython",
    "version": 3
   },
   "file_extension": ".py",
   "mimetype": "text/x-python",
   "name": "python",
   "nbconvert_exporter": "python",
   "pygments_lexer": "ipython3",
   "version": "3.8.10"
  }
 },
 "nbformat": 4,
 "nbformat_minor": 5
}
