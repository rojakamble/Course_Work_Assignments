{
 "cells": [
  {
   "cell_type": "markdown",
   "id": "592b8959",
   "metadata": {},
   "source": [
    "# Part 1: Basic Python Syntax"
   ]
  },
  {
   "cell_type": "markdown",
   "id": "898b5bf4",
   "metadata": {},
   "source": [
    "## Create a variable, var, and set the value to the string “Hello, world!”.\n"
   ]
  },
  {
   "cell_type": "code",
   "execution_count": 1,
   "id": "ac44b174",
   "metadata": {},
   "outputs": [
    {
     "data": {
      "text/plain": [
       "'Hello, world!'"
      ]
     },
     "execution_count": 1,
     "metadata": {},
     "output_type": "execute_result"
    }
   ],
   "source": [
    "var = \"Hello, world!\"\n",
    "var"
   ]
  },
  {
   "cell_type": "markdown",
   "id": "b8bb090a",
   "metadata": {},
   "source": [
    "## Now print the length of var."
   ]
  },
  {
   "cell_type": "code",
   "execution_count": 2,
   "id": "e900832d",
   "metadata": {},
   "outputs": [
    {
     "data": {
      "text/plain": [
       "13"
      ]
     },
     "execution_count": 2,
     "metadata": {},
     "output_type": "execute_result"
    }
   ],
   "source": [
    "len(var)"
   ]
  },
  {
   "cell_type": "markdown",
   "id": "961b593b",
   "metadata": {},
   "source": [
    "## Extract “world” from var using string index slicing."
   ]
  },
  {
   "cell_type": "code",
   "execution_count": 3,
   "id": "bda63a10",
   "metadata": {},
   "outputs": [
    {
     "data": {
      "text/plain": [
       "'world'"
      ]
     },
     "execution_count": 3,
     "metadata": {},
     "output_type": "execute_result"
    }
   ],
   "source": [
    "v = var[7:12]\n",
    "v"
   ]
  },
  {
   "cell_type": "markdown",
   "id": "cda2418e",
   "metadata": {},
   "source": [
    "## Print the types for 1, 1.0, and “1” and note how they differ."
   ]
  },
  {
   "cell_type": "code",
   "execution_count": 4,
   "id": "467bb160",
   "metadata": {},
   "outputs": [
    {
     "name": "stdout",
     "output_type": "stream",
     "text": [
      "<class 'int'>\n",
      "<class 'float'>\n",
      "<class 'str'>\n"
     ]
    }
   ],
   "source": [
    "i = 1\n",
    "f = 1.0\n",
    "s= \"1\"\n",
    "\n",
    "print(type(i))\n",
    "print(type(f))\n",
    "print(type(s))"
   ]
  },
  {
   "cell_type": "markdown",
   "id": "ac784636",
   "metadata": {},
   "source": [
    "### The input for them is different one has 1 its a integer whereas 1.0 is a float and \"1\" is for a defining a string. \n",
    "### so the type of variable also is changed accordingly."
   ]
  },
  {
   "cell_type": "markdown",
   "id": "7200b0da",
   "metadata": {},
   "source": [
    "## Calculate and print the area of a circle of radius 5 to two decimal places."
   ]
  },
  {
   "cell_type": "code",
   "execution_count": 5,
   "id": "8ceb40bd",
   "metadata": {},
   "outputs": [
    {
     "name": "stdout",
     "output_type": "stream",
     "text": [
      "157.08\n"
     ]
    }
   ],
   "source": [
    "import math\n",
    "\n",
    "r = 5\n",
    "area = 2*math.pi*r*r\n",
    "print(\"{:.2f}\".format(area))"
   ]
  },
  {
   "cell_type": "markdown",
   "id": "e4680808",
   "metadata": {},
   "source": [
    "## Write a for loop that prints the numbers 0 to 9."
   ]
  },
  {
   "cell_type": "code",
   "execution_count": 6,
   "id": "30623094",
   "metadata": {},
   "outputs": [
    {
     "name": "stdout",
     "output_type": "stream",
     "text": [
      "0\n",
      "1\n",
      "2\n",
      "3\n",
      "4\n",
      "5\n",
      "6\n",
      "7\n",
      "8\n",
      "9\n"
     ]
    }
   ],
   "source": [
    "for i in range (0,10):\n",
    "    print(i)"
   ]
  },
  {
   "cell_type": "markdown",
   "id": "03199b41",
   "metadata": {},
   "source": [
    "## Write a for loop that prints only even numbers from 10 to 20."
   ]
  },
  {
   "cell_type": "code",
   "execution_count": 7,
   "id": "63bccc08",
   "metadata": {},
   "outputs": [
    {
     "name": "stdout",
     "output_type": "stream",
     "text": [
      "10\n",
      "12\n",
      "14\n",
      "16\n",
      "18\n"
     ]
    }
   ],
   "source": [
    "for i in range (10,20):\n",
    "    if(i%2 == 0):\n",
    "        print(i)\n",
    "    "
   ]
  },
  {
   "cell_type": "markdown",
   "id": "aa84b0e7",
   "metadata": {},
   "source": [
    "## Write an if/else statement that takes a variable var and prints\n",
    "## “Greater than 10” if var is greater than 10,\n",
    "\n",
    "## “Less than 10” if var is less than 10,\n",
    "\n",
    "## “Equal to 10” if var is equal to 10.\n",
    "\n",
    "## Make sure to appropriately test for each case."
   ]
  },
  {
   "cell_type": "code",
   "execution_count": 8,
   "id": "cb211fc8",
   "metadata": {},
   "outputs": [
    {
     "name": "stdout",
     "output_type": "stream",
     "text": [
      "10- Equal to 10\n",
      "5- Less than 10\n",
      "20- Greater than 10\n",
      "25- Greater than 10\n"
     ]
    }
   ],
   "source": [
    "j = [10,5,20,25]\n",
    "\n",
    "for var in j:\n",
    "    if(var >10):\n",
    "        print( str(var) + \"- Greater than 10\")\n",
    "    elif(var<10):\n",
    "        print( str(var) + \"- Less than 10\")\n",
    "    elif(var ==10):\n",
    "        print( str(var) + \"- Equal to 10\")\n"
   ]
  },
  {
   "cell_type": "markdown",
   "id": "cb64060e",
   "metadata": {},
   "source": [
    "## Write a function which takes a string as its parameter and returns the length of the string.\n"
   ]
  },
  {
   "cell_type": "code",
   "execution_count": 9,
   "id": "a62cf06e",
   "metadata": {},
   "outputs": [
    {
     "name": "stdout",
     "output_type": "stream",
     "text": [
      "enter a string:Hello, world!!!\n",
      "15\n"
     ]
    }
   ],
   "source": [
    "\n",
    "def strlen(s):\n",
    "    print(len(s))\n",
    "    \n",
    "st = input(\"enter a string:\")\n",
    "strlen(st)\n"
   ]
  },
  {
   "cell_type": "markdown",
   "id": "e40cc7fe",
   "metadata": {},
   "source": [
    "## Write a function which takes a positive integer n as its parameter, and prints out all odd numbers from 1 to n.\n"
   ]
  },
  {
   "cell_type": "code",
   "execution_count": 10,
   "id": "3668f32f",
   "metadata": {},
   "outputs": [
    {
     "name": "stdout",
     "output_type": "stream",
     "text": [
      "Enter the max number:20\n",
      "1\n",
      "3\n",
      "5\n",
      "7\n",
      "9\n",
      "11\n",
      "13\n",
      "15\n",
      "17\n",
      "19\n"
     ]
    }
   ],
   "source": [
    "var = int(input(\"Enter the max number:\"))\n",
    "\n",
    "for i in range(1,var):\n",
    "    if(i%2 != 0):\n",
    "        print(i)"
   ]
  },
  {
   "cell_type": "markdown",
   "id": "f6cdea87",
   "metadata": {},
   "source": [
    "# Part 2: Simple Charts"
   ]
  },
  {
   "cell_type": "markdown",
   "id": "bcf41488",
   "metadata": {},
   "source": [
    "## Pie Chart: \n",
    "\n",
    "### Make a pie chart that shows the distribution of animals in a zoo that contains \n",
    "### 30 penguins, 40 polar bears, 20 lions, and 10 otters. \n"
   ]
  },
  {
   "cell_type": "code",
   "execution_count": 11,
   "id": "1765d6f3",
   "metadata": {},
   "outputs": [
    {
     "data": {
      "image/png": "[encoded data removed]",
      "text/plain": [
       "<Figure size 432x288 with 1 Axes>"
      ]
     },
     "metadata": {},
     "output_type": "display_data"
    }
   ],
   "source": [
    "import matplotlib.pyplot as plt\n",
    "import numpy as np\n",
    "\n",
    "y = np.array([30, 40, 20, 10])\n",
    "mylabels = [\"penguins\", \"polar bears\",\"lions\",\"otters\"]\n",
    "\n",
    "plt.pie(y, labels= mylabels)\n",
    "plt.show() "
   ]
  },
  {
   "cell_type": "markdown",
   "id": "b41bde81",
   "metadata": {},
   "source": [
    "## Bar Chart:\n",
    "\n",
    "### Make a bar chart that shows the number of people, out of a total of 40, \n",
    "### who like various movie types if 10 people like comedy; 8 people like action; \n",
    "### 15 people like romance; 2 people like drama, and 5 people like sci-fi.\n"
   ]
  },
  {
   "cell_type": "code",
   "execution_count": 12,
   "id": "635ed216",
   "metadata": {},
   "outputs": [
    {
     "data": {
      "image/png": "[encoded data removed]",
      "text/plain": [
       "<Figure size 432x288 with 1 Axes>"
      ]
     },
     "metadata": {
      "needs_background": "light"
     },
     "output_type": "display_data"
    }
   ],
   "source": [
    "data = {'comedy':10, 'action':8,'romance':15,'drama':2,'sci-fi':5}\n",
    "type = list(data.keys())\n",
    "no = list(data.values())\n",
    "  \n",
    "plt.bar(type,no)\n",
    "\n",
    "plt.xlabel(\"Movies Types\")\n",
    "plt.ylabel(\"No. of people\")\n",
    "plt.title(\"Number of moviewatches for different genres\")\n",
    "plt.show()"
   ]
  },
  {
   "cell_type": "markdown",
   "id": "c43e1253",
   "metadata": {},
   "source": [
    "## Grouped Bar Plots:\n",
    "\n",
    "### Make both a side-by-side bar plot and a stacked bar plot that displays the number of \n",
    "### child visitors and the number of adult visitors at a waterpark in the months of April, May, June and July.\n",
    "### Be sure to include titles, legends and appropriate labels sufficiently sized for readability. \n",
    "\n",
    "### April\n",
    "\n",
    "### Children: 680\n",
    "### Adults: 215\n",
    "\n",
    "### May\n",
    "\n",
    "### Children: 950\n",
    "### Adults: 400\n",
    "\n",
    "### June\n",
    "\n",
    "### Children: 2056\n",
    "### Adults: 1100\n",
    "\n",
    "### July\n",
    "\n",
    "### Children: 4502\n",
    "### Adults: 1800"
   ]
  },
  {
   "cell_type": "code",
   "execution_count": 13,
   "id": "698c3894",
   "metadata": {},
   "outputs": [
    {
     "data": {
      "image/png": "[encoded data removed]",
      "text/plain": [
       "<Figure size 432x288 with 1 Axes>"
      ]
     },
     "metadata": {
      "needs_background": "light"
     },
     "output_type": "display_data"
    },
    {
     "data": {
      "image/png": "[encoded data removed]",
      "text/plain": [
       "<Figure size 432x288 with 1 Axes>"
      ]
     },
     "metadata": {
      "needs_background": "light"
     },
     "output_type": "display_data"
    }
   ],
   "source": [
    "\n",
    "X = ['April','May','June','July']\n",
    "children= [680, 950, 2056, 450]\n",
    "adults = [215,400,1100,1800]\n",
    "  \n",
    "X_axis = np.arange(len(X))\n",
    "  \n",
    "plt.bar(X_axis - 0.2, children, 0.4, label = 'children')\n",
    "plt.bar(X_axis + 0.2, adults, 0.4, label = 'adults')\n",
    "  \n",
    "plt.xticks(X_axis, X)\n",
    "plt.xlabel(\"Month\")\n",
    "plt.ylabel(\"Number of visitors\")\n",
    "plt.title(\"Number of visitors in each month\")\n",
    "plt.legend()\n",
    "plt.show()\n",
    "\n",
    "plt.bar(X_axis, children, 0.4, label = 'children')\n",
    "plt.bar(X_axis, adults,0.4,bottom=children,  label = 'adults')\n",
    "  \n",
    "plt.xticks(X_axis, X)\n",
    "plt.xlabel(\"Month\")\n",
    "plt.ylabel(\"Number of visitors\")\n",
    "plt.title(\"Number of visitors in each month\")\n",
    "plt.ylim([0,5000])\n",
    "plt.legend()\n",
    "plt.show()"
   ]
  },
  {
   "cell_type": "markdown",
   "id": "ab5b25f7",
   "metadata": {},
   "source": [
    "## Histogram:\n",
    "\n",
    "### Make a histogram of the following scores. Feel free to experiment on the best number of histogram bins for visualization.\n",
    "\n",
    "### 114.8, 98.8, 97.3, 96, 94.1, 93.1, 93.1, 91.6, 91.5, 91.3, 90.3, 89.2, 87.5, \n",
    "### 87.4, 85.2, 81.7, 81.6, 81.5, 80, 79.3, 78.2, 77.6, 77.1, 76.7, 75.1, 73.9,\n",
    "### 72, 71, 64.6, 63.3, 47.2, 38.7\n"
   ]
  },
  {
   "cell_type": "code",
   "execution_count": 14,
   "id": "6dd1aa73",
   "metadata": {},
   "outputs": [
    {
     "data": {
      "text/plain": [
       "(array([2., 1., 1., 2., 1., 1., 2., 1., 1., 2.]),\n",
       " array([ 0. ,  1.3,  2.6,  3.9,  5.2,  6.5,  7.8,  9.1, 10.4, 11.7, 13. ]),\n",
       " <BarContainer object of 10 artists>)"
      ]
     },
     "execution_count": 14,
     "metadata": {},
     "output_type": "execute_result"
    },
    {
     "data": {
      "image/png": "[encoded data removed]",
      "text/plain": [
       "<Figure size 432x288 with 1 Axes>"
      ]
     },
     "metadata": {
      "needs_background": "light"
     },
     "output_type": "display_data"
    }
   ],
   "source": [
    "h =['114.8', '98.8', '97.3', '96', '94.1', '90.3', '89.2', '87.5', '87.4',\n",
    "    '71', '64.6', '63.3', '47.2', '38.7']\n",
    "plt.hist(h)"
   ]
  },
  {
   "cell_type": "code",
   "execution_count": null,
   "id": "f33da2aa",
   "metadata": {},
   "outputs": [],
   "source": []
  }
 ],
 "metadata": {
  "kernelspec": {
   "display_name": "Python 3 (ipykernel)",
   "language": "python",
   "name": "python3"
  },
  "language_info": {
   "codemirror_mode": {
    "name": "ipython",
    "version": 3
   },
   "file_extension": ".py",
   "mimetype": "text/x-python",
   "name": "python",
   "nbconvert_exporter": "python",
   "pygments_lexer": "ipython3",
   "version": "3.9.7"
  }
 },
 "nbformat": 4,
 "nbformat_minor": 5
}
