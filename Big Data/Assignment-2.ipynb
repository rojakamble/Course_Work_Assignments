{
 "cells": [
  {
   "cell_type": "markdown",
   "id": "506054d8",
   "metadata": {},
   "source": [
    "# Part 1: Object Oriented Programming"
   ]
  },
  {
   "cell_type": "code",
   "execution_count": null,
   "id": "9cf8b9b4",
   "metadata": {},
   "outputs": [],
   "source": [
    "Replace  pass with the appropriate code in the Line class methods to accept coordinates as a pair of lists and return the slope and distance of the line.\n",
    "class Line(object):\n",
    "\n",
    "def __init__(self,coor1,coor2):\n",
    "\n",
    "pass\n",
    "\n",
    "def distance(self):\n",
    "\n",
    "pass\n",
    "\n",
    "def slope(self):\n",
    "\n",
    "pass\n",
    "\n",
    "Example output:\n",
    "\n",
    "coordinate1 = [3,2]\n",
    "\n",
    "coordinate2 = [8,10]\n",
    "\n",
    "li = Line(coordinate1,coordinate2)\n",
    "\n",
    "li.distance() # 9.433981132056603\n",
    "\n",
    "li.slope() # 1.6\n",
    "\n",
    " \n",
    "\n"
   ]
  },
  {
   "cell_type": "code",
   "execution_count": 61,
   "id": "e82f7dc8",
   "metadata": {},
   "outputs": [],
   "source": [
    "import math\n",
    "class Line(object):\n",
    "    def __init__(self,coor1,coor2):\n",
    "        self.coor1 = coor1\n",
    "        self.coor2 = coor2\n",
    "        pass\n",
    "    def distance(self):\n",
    "        dis = ((self.coor1[0]-self.coor2[0])**2 +\n",
    "               (self.coor1[1] -self.coor2[1])**2) \n",
    "        di = math.sqrt(abs(dis))\n",
    "        return (di)\n",
    "    def slope(self):\n",
    "        return (((self.coor1[1] -self.coor2[1])/(self.coor1[0] -self.coor2[0])))\n"
   ]
  },
  {
   "cell_type": "code",
   "execution_count": 62,
   "id": "37f27a19",
   "metadata": {},
   "outputs": [
    {
     "name": "stdout",
     "output_type": "stream",
     "text": [
      "9.433981132056603\n",
      "1.6\n"
     ]
    }
   ],
   "source": [
    "coordinate1 = [3,2]\n",
    "coordinate2 = [8,10]\n",
    "\n",
    "li = Line(coordinate1,coordinate2)\n",
    "\n",
    "print(li.distance())\n",
    "print(li.slope())"
   ]
  },
  {
   "cell_type": "code",
   "execution_count": null,
   "id": "56110304",
   "metadata": {},
   "outputs": [],
   "source": [
    "Replace  pass with the appropriate code in the Cylinder class methods to return the volume and the surface area of the cylinder. \n",
    "class Cylinder(object):\n",
    "\n",
    "def __init__(self,height=1,radius=1):\n",
    "\n",
    "pass\n",
    "\n",
    "def volume(self):\n",
    "\n",
    "pass\n",
    "\n",
    "def surface_area(self):\n",
    "\n",
    "pass\n",
    "\n",
    "Example output:\n",
    "\n",
    "c = Cylinder(2,3)\n",
    "\n",
    "c.volume() # 56.52\n",
    "\n",
    "c.surface_area() # 94.2"
   ]
  },
  {
   "cell_type": "code",
   "execution_count": 65,
   "id": "3f862be2",
   "metadata": {},
   "outputs": [],
   "source": [
    "class Cylinder(object):\n",
    "    def __init__(self,height,radius):\n",
    "        self.height= height\n",
    "        self.radius = radius\n",
    "        pass\n",
    "    def volume(self):\n",
    "        v = 3.14*(self.radius**2)*self.height\n",
    "        return v\n",
    "    def surface_area(self):\n",
    "        a = (2*3.14*(self.radius*self.height))+(2*3.14*(self.radius**2))\n",
    "        return a"
   ]
  },
  {
   "cell_type": "code",
   "execution_count": null,
   "id": "cb10e758",
   "metadata": {},
   "outputs": [],
   "source": [
    "c = Cylinder(2,3)\n",
    "\n",
    "print(c.volume()) # 56.52\n",
    "\n",
    "print(c.surface_area()) # 94.2"
   ]
  },
  {
   "cell_type": "code",
   "execution_count": 66,
   "id": "48a01c1e",
   "metadata": {},
   "outputs": [
    {
     "name": "stdout",
     "output_type": "stream",
     "text": [
      "56.52\n",
      "94.2\n"
     ]
    }
   ],
   "source": []
  },
  {
   "cell_type": "markdown",
   "id": "4d080e9f",
   "metadata": {},
   "source": [
    "# Part 2: 2D Plots"
   ]
  },
  {
   "cell_type": "code",
   "execution_count": 1,
   "id": "6e7cc967",
   "metadata": {},
   "outputs": [
    {
     "ename": "SyntaxError",
     "evalue": "invalid syntax (500080704.py, line 1)",
     "output_type": "error",
     "traceback": [
      "\u001b[0;36m  File \u001b[0;32m\"/var/folders/ty/4py3xkds2xd231nxqy3v22j40000gp/T/ipykernel_39243/500080704.py\"\u001b[0;36m, line \u001b[0;32m1\u001b[0m\n\u001b[0;31m    Line Plot:\u001b[0m\n\u001b[0m         ^\u001b[0m\n\u001b[0;31mSyntaxError\u001b[0m\u001b[0;31m:\u001b[0m invalid syntax\n"
     ]
    }
   ],
   "source": [
    "Line Plot:\n",
    "Create a line plot of sin(x) and cos(x + π/2) for -2π < x < 2π where x increases at intervals of π/4.\n",
    "\n",
    "Make the sin(x) graph red and make the cos(x+π/2) graph green\n",
    "Put both lines onto the same plot\n",
    "Using the same info as above, make a subplot with 2 different graphs- \n",
    "one graph for sin(x) and \n",
    "one graph for cos(x+π/2)\n",
    " \n",
    "\n",
    "x = -6.283, -5.498, -4.712, -3.927, -3.142, -2.356, -1.571, -.7854, 0, .7854, 1.571, 2.356, 3.142, 3.927, 4.712, 5.498, 6.283\n",
    "\n",
    " \n",
    "\n",
    "sin(x) = 0, .70711, 1, .70711, 0, -.70711, -1, -.70711, 0, .70711, 1, .70711, 0, -.70711, -1, -.70711, 0\n",
    "\n",
    " \n",
    "\n",
    "cos(x + π/2) = 0, -.70711, -1, -.70711, 0, .70711, 1, .70711, 0, -.70711, -1, -.70711, 0, .70711, 1, .70711, 0    \n",
    "\n",
    " \n",
    "\n"
   ]
  },
  {
   "cell_type": "code",
   "execution_count": 11,
   "id": "54e2fb25",
   "metadata": {},
   "outputs": [
    {
     "data": {
      "image/png": "[encoded data removed]",
      "text/plain": [
       "<Figure size 432x288 with 1 Axes>"
      ]
     },
     "metadata": {
      "needs_background": "light"
     },
     "output_type": "display_data"
    },
    {
     "name": "stderr",
     "output_type": "stream",
     "text": [
      "<ipython-input-11-f1b66221ea4e>:14: UserWarning: Matplotlib is currently using module://ipykernel.pylab.backend_inline, which is a non-GUI backend, so cannot show the figure.\n",
      "  fig.show()\n"
     ]
    },
    {
     "data": {
      "image/png": "[encoded data removed]",
      "text/plain": [
       "<Figure size 432x288 with 2 Axes>"
      ]
     },
     "metadata": {
      "needs_background": "light"
     },
     "output_type": "display_data"
    }
   ],
   "source": [
    "import matplotlib.pyplot as plt\n",
    "\n",
    "x = [-6.283, -5.498, -4.712, -3.927, -3.142, -2.356, -1.571, -.7854, 0, .7854, 1.571, 2.356, 3.142, 3.927, 4.712, 5.498, 6.283]\n",
    "sin = [0, .70711, 1, .70711, 0, -.70711, -1, -.70711, 0, .70711, 1, .70711, 0, -.70711, -1, -.70711, 0]\n",
    "cos = [0, -.70711, -1, -.70711, 0, .70711, 1, .70711, 0, -.70711, -1, -.70711, 0, .70711, 1, .70711, 0]\n",
    "\n",
    "plt.plot(x,sin,'red')\n",
    "plt.plot(x,cos,'green')\n",
    "plt.show()\n",
    " \n",
    "fig , ax = plt.subplots(2)\n",
    "ax[0].plot(x,sin)\n",
    "ax[1].plot(x,cos)\n",
    "fig.show()"
   ]
  },
  {
   "cell_type": "code",
   "execution_count": null,
   "id": "d6c0dbb8",
   "metadata": {},
   "outputs": [],
   "source": [
    "Scatter Plot:\n",
    "Using the following data about winter temperatures affecting the number of days for lake ice at Lake Superior, construct a scatter plot to display the data. Include a line of best fit.\n",
    "\n",
    " \n",
    "\n",
    "Mean Temperature (in Fahrenheit): 22.94, 23.02, 25.68, 19.96, 24.80, 23.98, 22.10, 20.30, 24.20, 22.74, 24.16, 24.94, 22.40, 22.14, 20.84, 25.66, 21.73, 24.49, 24.13, 22.17, 21.73, 20.41, 24.41, 23.95, 20.95, 26.71, 22.81, 23.11, 23.33, 28.83, 23.11, 21.47, 23.97, 24.75, 23.61, 23.08, 21.24, 26.63, 23.88\n",
    "\n",
    "Days of Ice: 87, 137, 106, 97, 105, 118, 118, 136, 91, 107, 96, 114, 125, 115, 118, 82, 115, 97, 104, 146, 126, 141, 111, 123, 118, 83, 48, 118, 116, 81, 116, 123, 112, 99, 102, 118, 63, 62, 132\n",
    "    "
   ]
  },
  {
   "cell_type": "code",
   "execution_count": 16,
   "id": "f4d6bd17",
   "metadata": {},
   "outputs": [
    {
     "data": {
      "image/png": "[encoded data removed]",
      "text/plain": [
       "<Figure size 432x288 with 1 Axes>"
      ]
     },
     "metadata": {
      "needs_background": "light"
     },
     "output_type": "display_data"
    }
   ],
   "source": [
    "import numpy as np\n",
    "Mean=[22.94, 23.02, 25.68, 19.96, 24.80, 23.98, 22.10, 20.30, 24.20, 22.74, 24.16, 24.94, 22.40, 22.14, 20.84, 25.66, 21.73, 24.49, 24.13, 22.17, 21.73, 20.41, 24.41, 23.95, 20.95, 26.71, 22.81, 23.11, 23.33, 28.83, 23.11, 21.47, 23.97, 24.75, 23.61, 23.08, 21.24, 26.63, 23.88]\n",
    "mean = np.array(Mean)\n",
    "Days=[87, 137, 106, 97, 105, 118, 118, 136, 91, 107, 96, 114, 125, 115, 118, 82, 115, 97, 104, 146, 126, 141, 111, 123, 118, 83, 48, 118, 116, 81, 116, 123, 112, 99, 102, 118, 63, 62, 132]\n",
    "days=np.array(Days)\n",
    "m, b = np.polyfit(mean,days, 1)\n",
    "plt.plot(mean,days,'o')\n",
    "plt.plot(mean,m*mean+b)\n",
    "plt.show()"
   ]
  },
  {
   "cell_type": "code",
   "execution_count": null,
   "id": "990e765f",
   "metadata": {},
   "outputs": [],
   "source": []
  }
 ],
 "metadata": {
  "kernelspec": {
   "display_name": "Python 3 (ipykernel)",
   "language": "python",
   "name": "python3"
  },
  "language_info": {
   "codemirror_mode": {
    "name": "ipython",
    "version": 3
   },
   "file_extension": ".py",
   "mimetype": "text/x-python",
   "name": "python",
   "nbconvert_exporter": "python",
   "pygments_lexer": "ipython3",
   "version": "3.9.7"
  }
 },
 "nbformat": 4,
 "nbformat_minor": 5
}
