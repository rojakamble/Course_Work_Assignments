{
 "cells": [
  {
   "cell_type": "markdown",
   "id": "f8060afb",
   "metadata": {},
   "source": [
    "# Part 1: Primer"
   ]
  },
  {
   "cell_type": "markdown",
   "id": "9126059f",
   "metadata": {},
   "source": [
    "# 1: Lists\n",
    "\n",
    "1) Make a list with the spelled-out number strings ‘one’, ‘two’, ‘three’, ‘four’, and ‘five’ in that order and call it myList.\n",
    "\n",
    "2) Remove ‘three’ from the list using positional indexing.\n",
    "\n",
    "3) Check if ‘four’ is in the list. \n",
    "\n",
    "4) Append ‘six’ to the end of the list, then print the length of the list.\n",
    "\n",
    "5) Print the contents of the list, but also next to each item print the length of the string (e.g. one is 3, four is 4) using a for loop.\n",
    "\n",
    "6) Create a list only of the lengths of the strings and show your result. You can use the loop before to fill the list.\n",
    "\n"
   ]
  },
  {
   "cell_type": "code",
   "execution_count": 1,
   "id": "1519a24c",
   "metadata": {},
   "outputs": [
    {
     "name": "stdout",
     "output_type": "stream",
     "text": [
      "['one', 'two', 'three', 'four', 'five']\n"
     ]
    }
   ],
   "source": [
    "myList = ['one', 'two', 'three', 'four', 'five']\n",
    "print(myList)"
   ]
  },
  {
   "cell_type": "code",
   "execution_count": 2,
   "id": "4aa2ff5d",
   "metadata": {},
   "outputs": [
    {
     "name": "stdout",
     "output_type": "stream",
     "text": [
      "['one', 'two', 'four', 'five']\n"
     ]
    }
   ],
   "source": [
    "myList.remove('three')\n",
    "print(myList)"
   ]
  },
  {
   "cell_type": "code",
   "execution_count": 3,
   "id": "33bf9256",
   "metadata": {},
   "outputs": [
    {
     "data": {
      "text/plain": [
       "True"
      ]
     },
     "execution_count": 3,
     "metadata": {},
     "output_type": "execute_result"
    }
   ],
   "source": [
    "'four' in myList"
   ]
  },
  {
   "cell_type": "code",
   "execution_count": 4,
   "id": "5744f6bf",
   "metadata": {},
   "outputs": [
    {
     "name": "stdout",
     "output_type": "stream",
     "text": [
      "5\n"
     ]
    }
   ],
   "source": [
    "myList.append('siz')\n",
    "print(len(myList))"
   ]
  },
  {
   "cell_type": "code",
   "execution_count": 5,
   "id": "00a563b8",
   "metadata": {},
   "outputs": [
    {
     "name": "stdout",
     "output_type": "stream",
     "text": [
      "one value is 3\n",
      "two value is 3\n",
      "four value is 4\n",
      "five value is 4\n",
      "siz value is 3\n"
     ]
    }
   ],
   "source": [
    "for i in myList:\n",
    "    print(i, 'value is', len(i))"
   ]
  },
  {
   "cell_type": "code",
   "execution_count": 6,
   "id": "a7c7ef39",
   "metadata": {},
   "outputs": [
    {
     "name": "stdout",
     "output_type": "stream",
     "text": [
      "[3, 3, 4, 4, 3]\n"
     ]
    }
   ],
   "source": [
    "res = []\n",
    "for i in myList:\n",
    "    res.append(len(i))\n",
    "print(res)"
   ]
  },
  {
   "cell_type": "markdown",
   "id": "0a46eb28",
   "metadata": {},
   "source": [
    "# 2: Dictionaries\n",
    "\n",
    "1) Make a dictionary with the keys be English words as below, and the values be the translation. You can use this language example (German) or choose your own. Note: you need to make sure all of these words are represented as strings, in quotes.\n",
    "\n",
    "apple - Apfel\n",
    "\n",
    "apples - Äpfel\n",
    "\n",
    "I - Ich\n",
    "\n",
    "and - und\n",
    "\n",
    "like - mag\n",
    "\n",
    "strawberries - Erdbeeren\n",
    "\n",
    " \n",
    "\n",
    "2) Use the dictionary to look up the translation for ‘apple’ and ‘like’. \n",
    "\n",
    "3) Make a variable var with the string “I like apples and strawberries”\n",
    "\n",
    "4) Now create a list from var with each word a separate item (this is a string split operation).\n",
    "\n",
    "5) Iterate through the list you’ve created and replace any word in your dictionary with the translation.\n",
    "\n",
    "6) Now take your new list and turn it into a string with spaces between the words."
   ]
  },
  {
   "cell_type": "code",
   "execution_count": 10,
   "id": "9fc1a664",
   "metadata": {},
   "outputs": [
    {
     "name": "stdout",
     "output_type": "stream",
     "text": [
      "{'apple': 'Apfel', 'apples': 'Apfel', 'I': 'Ich', 'and': 'und', 'like': 'mag', 'strawberries': 'Erdbeeren'}\n"
     ]
    }
   ],
   "source": [
    "dictio = {}\n",
    "dictio = {'apple': 'Apfel','apples':'Apfel','I':'Ich', 'and':'und','like':'mag','strawberries':'Erdbeeren'}\n",
    "print(dictio)"
   ]
  },
  {
   "cell_type": "code",
   "execution_count": 11,
   "id": "840849f4",
   "metadata": {},
   "outputs": [
    {
     "name": "stdout",
     "output_type": "stream",
     "text": [
      "Apfel\n",
      "mag\n"
     ]
    }
   ],
   "source": [
    "print(dictio['apple'])\n",
    "print(dictio['like'])"
   ]
  },
  {
   "cell_type": "code",
   "execution_count": 12,
   "id": "d5ed01c3",
   "metadata": {},
   "outputs": [],
   "source": [
    "var=\"I like apples and strawberries\""
   ]
  },
  {
   "cell_type": "code",
   "execution_count": 16,
   "id": "e1705891",
   "metadata": {},
   "outputs": [
    {
     "name": "stdout",
     "output_type": "stream",
     "text": [
      "['I', 'like', 'apples', 'and', 'strawberries']\n"
     ]
    }
   ],
   "source": [
    "mylist = list(var.split(\" \"))\n",
    "print(mylist)"
   ]
  },
  {
   "cell_type": "code",
   "execution_count": 17,
   "id": "b3725851",
   "metadata": {},
   "outputs": [
    {
     "name": "stdout",
     "output_type": "stream",
     "text": [
      "['Ich', 'mag', 'Apfel', 'und', 'Erdbeeren']\n"
     ]
    }
   ],
   "source": [
    "for i in range(len(mylist)):\n",
    "    mylist[i] = dictio[mylist[i]]\n",
    "print(mylist)"
   ]
  },
  {
   "cell_type": "code",
   "execution_count": 18,
   "id": "6e6aa154",
   "metadata": {},
   "outputs": [
    {
     "data": {
      "text/plain": [
       "'Ich mag Apfel und Erdbeeren'"
      ]
     },
     "execution_count": 18,
     "metadata": {},
     "output_type": "execute_result"
    }
   ],
   "source": [
    "var2=\" \".join(mylist)\n",
    "var2"
   ]
  },
  {
   "cell_type": "markdown",
   "id": "ce5da0f8",
   "metadata": {},
   "source": [
    "# 3: Arrays\n",
    "\n",
    "1) Create an array of zeros of size 8 x 8 and print the data type of the array.\n",
    "\n",
    "2) Fill the array with the numbers 1 to 64 first by row, then by column. You may want to use a for loop inside a for loop to do this.\n",
    "\n",
    "3) Transpose the array.\n",
    "\n",
    "4) Print only the top 4 rows and columns.\n",
    "\n",
    "5) Make a 1D array out of your 2D array with the numbers 1 to 64 in order (note the column vs row issue, you may need transposes.)\n",
    "\n",
    "6) Now take that 1D array you made from before and reshape it back to the original 2D array."
   ]
  },
  {
   "cell_type": "code",
   "execution_count": 19,
   "id": "ff32a428",
   "metadata": {},
   "outputs": [
    {
     "data": {
      "text/plain": [
       "numpy.ndarray"
      ]
     },
     "execution_count": 19,
     "metadata": {},
     "output_type": "execute_result"
    }
   ],
   "source": [
    "import numpy as np\n",
    "arr = np.ones((8,8))\n",
    "type(arr)"
   ]
  },
  {
   "cell_type": "code",
   "execution_count": 20,
   "id": "15fc3950",
   "metadata": {},
   "outputs": [
    {
     "name": "stdout",
     "output_type": "stream",
     "text": [
      "[[ 1.  2.  3.  4.  5.  6.  7.  8.]\n",
      " [ 9. 10. 11. 12. 13. 14. 15. 16.]\n",
      " [17. 18. 19. 20. 21. 22. 23. 24.]\n",
      " [25. 26. 27. 28. 29. 30. 31. 32.]\n",
      " [33. 34. 35. 36. 37. 38. 39. 40.]\n",
      " [41. 42. 43. 44. 45. 46. 47. 48.]\n",
      " [49. 50. 51. 52. 53. 54. 55. 56.]\n",
      " [57. 58. 59. 60. 61. 62. 63. 64.]]\n"
     ]
    }
   ],
   "source": [
    "for i in range(8):\n",
    "    for j in range(8):\n",
    "        arr[i,j]=8*i+j+1;\n",
    "print(arr)"
   ]
  },
  {
   "cell_type": "code",
   "execution_count": 21,
   "id": "9d2ac83c",
   "metadata": {},
   "outputs": [
    {
     "name": "stdout",
     "output_type": "stream",
     "text": [
      "[[ 1.  9. 17. 25. 33. 41. 49. 57.]\n",
      " [ 2. 10. 18. 26. 34. 42. 50. 58.]\n",
      " [ 3. 11. 19. 27. 35. 43. 51. 59.]\n",
      " [ 4. 12. 20. 28. 36. 44. 52. 60.]\n",
      " [ 5. 13. 21. 29. 37. 45. 53. 61.]\n",
      " [ 6. 14. 22. 30. 38. 46. 54. 62.]\n",
      " [ 7. 15. 23. 31. 39. 47. 55. 63.]\n",
      " [ 8. 16. 24. 32. 40. 48. 56. 64.]]\n"
     ]
    }
   ],
   "source": [
    "arr=arr.transpose()\n",
    "print(arr)"
   ]
  },
  {
   "cell_type": "code",
   "execution_count": 22,
   "id": "9fa4e3bf",
   "metadata": {},
   "outputs": [
    {
     "name": "stdout",
     "output_type": "stream",
     "text": [
      "[[ 1.  9. 17. 25.]\n",
      " [ 2. 10. 18. 26.]\n",
      " [ 3. 11. 19. 27.]\n",
      " [ 4. 12. 20. 28.]]\n"
     ]
    }
   ],
   "source": [
    "print(arr[:4,:4])"
   ]
  },
  {
   "cell_type": "code",
   "execution_count": 23,
   "id": "1beb36c0",
   "metadata": {},
   "outputs": [
    {
     "name": "stdout",
     "output_type": "stream",
     "text": [
      "[ 1.  2.  3.  4.  5.  6.  7.  8.  9. 10. 11. 12. 13. 14. 15. 16. 17. 18.\n",
      " 19. 20. 21. 22. 23. 24. 25. 26. 27. 28. 29. 30. 31. 32. 33. 34. 35. 36.\n",
      " 37. 38. 39. 40. 41. 42. 43. 44. 45. 46. 47. 48. 49. 50. 51. 52. 53. 54.\n",
      " 55. 56. 57. 58. 59. 60. 61. 62. 63. 64.]\n"
     ]
    }
   ],
   "source": [
    "arr1=arr.transpose().flatten()\n",
    "print(arr1)"
   ]
  },
  {
   "cell_type": "code",
   "execution_count": 24,
   "id": "7d866d19",
   "metadata": {},
   "outputs": [
    {
     "name": "stdout",
     "output_type": "stream",
     "text": [
      "[[ 1.  2.  3.  4.  5.  6.  7.  8.]\n",
      " [ 9. 10. 11. 12. 13. 14. 15. 16.]\n",
      " [17. 18. 19. 20. 21. 22. 23. 24.]\n",
      " [25. 26. 27. 28. 29. 30. 31. 32.]\n",
      " [33. 34. 35. 36. 37. 38. 39. 40.]\n",
      " [41. 42. 43. 44. 45. 46. 47. 48.]\n",
      " [49. 50. 51. 52. 53. 54. 55. 56.]\n",
      " [57. 58. 59. 60. 61. 62. 63. 64.]]\n"
     ]
    }
   ],
   "source": [
    "arr2 = arr1.reshape(8,8)\n",
    "print(arr2)"
   ]
  },
  {
   "cell_type": "markdown",
   "id": "6ed9b903",
   "metadata": {},
   "source": [
    "# Part 2: Applications"
   ]
  },
  {
   "cell_type": "markdown",
   "id": "96e1a1ad",
   "metadata": {},
   "source": [
    "# 1. Word Counts\n",
    "\n",
    "Word counts are often used in text processing to automatically classify documents by topic. They are also used to automatically measure the “sentiment” by counting, for example, the number of positive or negative words used in the comment or essay. Write code to count the number of unique words in a very large string using the following steps.\n",
    "\n",
    "1. First convert the string to a list with each word a separate item in the list. Hint: use a string split function for your language, and make sure it separates by “ ”.\n",
    "\n",
    "2. Then use a dictionary to associate each word with a count. Note, the dictionary won’t be able to increment a key unless you add it first, so you may have to check to see if it exists before setting the original count of a word to 1.\n",
    "\n",
    "3. Print each word and its count afterwards, and test with an interesting block of text that will have multiple words counted multiple times. (Note, the words don’t have to be in any particular order.)\n",
    "For example: “how much wood would a woodchuck chuck if a woodchuck could chuck wood”\n",
    "\n",
    "Expected output:\n",
    "\n",
    "how - 1\n",
    "\n",
    "much -1\n",
    "\n",
    "wood - 2\n",
    "\n",
    "would - 1\n",
    "\n",
    "a - 2\n",
    "\n",
    "woodchuck - 2\n",
    "\n",
    "chuck - 2\n",
    "\n",
    "if - 1\n",
    "\n",
    "could - 1"
   ]
  },
  {
   "cell_type": "code",
   "execution_count": 25,
   "id": "68106b67",
   "metadata": {},
   "outputs": [
    {
     "name": "stdout",
     "output_type": "stream",
     "text": [
      "['how', 'much', 'wood', 'would', 'a', 'woodchuck', 'chuck', 'if', 'a', 'woodchuck', 'could', 'chuck', 'wood']\n"
     ]
    }
   ],
   "source": [
    "str = 'how much wood would a woodchuck chuck if a woodchuck could chuck wood'\n",
    "wlist = str.split(' ')\n",
    "print(wlist)"
   ]
  },
  {
   "cell_type": "code",
   "execution_count": 26,
   "id": "2a0689f8",
   "metadata": {},
   "outputs": [
    {
     "name": "stdout",
     "output_type": "stream",
     "text": [
      "how  -  1\n",
      "much  -  1\n",
      "wood  -  2\n",
      "would  -  1\n",
      "a  -  2\n",
      "woodchuck  -  2\n",
      "chuck  -  2\n",
      "if  -  1\n",
      "could  -  1\n"
     ]
    }
   ],
   "source": [
    "wdict = {}\n",
    "for w in wlist:\n",
    "    if w in wdict:\n",
    "        wdict[w] +=1\n",
    "    else:\n",
    "        wdict[w]=1\n",
    "for w in wdict:\n",
    "    print(w,\" - \", wdict[w])"
   ]
  },
  {
   "cell_type": "markdown",
   "id": "85dbc570",
   "metadata": {},
   "source": [
    "# 2. Adding an Array Border\n",
    "\n",
    "As we will see later in the class, arrays can be used to represent images. In particular, black and white images can be represented by a 2D array, with one number (usually 0) representing black and another number (usually 1, but sometimes something else) representing white, and gray being everything in between. Here we just want to test your ability to handle a 2D array and add a border (filled with 0's) around it. In code this means creating an array of 0’s of width+2 by height+2 size and copying the original array into the middle appropriately (Note: do not use np.pad() function).\n",
    "\n",
    "Test with an array in the center that has non-zero elements. First print the original array, then print the new array with the added border of 0’s. For example:\n",
    "\n",
    "Expected Output:\n",
    "\n",
    "Original array:\n",
    "\n",
    "[[ 1 1 1 1 ]\n",
    "\n",
    " [ 1 1 1 1 ]\n",
    "\n",
    " [ 1 1 1 1 ]]\n",
    "\n",
    "New array (0 on the border and 1 inside in the array):\n",
    "\n",
    "[[ 0 0 0 0 0 0 ]\n",
    "\n",
    " [ 0 1 1 1 1 0 ]\n",
    "\n",
    " [ 0 1 1 1 1 0 ]\n",
    "\n",
    " [ 0 1 1 1 1 0 ]\n",
    "\n",
    " [ 0 0 0 0 0 0 ]]"
   ]
  },
  {
   "cell_type": "code",
   "execution_count": 27,
   "id": "7bee1a4f",
   "metadata": {},
   "outputs": [
    {
     "data": {
      "text/plain": [
       "array([[1., 1., 1., 1.],\n",
       "       [1., 1., 1., 1.],\n",
       "       [1., 1., 1., 1.]])"
      ]
     },
     "execution_count": 27,
     "metadata": {},
     "output_type": "execute_result"
    }
   ],
   "source": [
    "or_arr = np.ones((3,4))\n",
    "or_arr"
   ]
  },
  {
   "cell_type": "code",
   "execution_count": 31,
   "id": "b064882a",
   "metadata": {},
   "outputs": [
    {
     "data": {
      "text/plain": [
       "array([[0., 0., 0., 0., 0., 0.],\n",
       "       [0., 1., 1., 1., 1., 0.],\n",
       "       [0., 1., 1., 1., 1., 0.],\n",
       "       [0., 1., 1., 1., 1., 0.],\n",
       "       [0., 0., 0., 0., 0., 0.]])"
      ]
     },
     "execution_count": 31,
     "metadata": {},
     "output_type": "execute_result"
    }
   ],
   "source": [
    "narr = np.zeros((len(or_arr)+2,len(or_arr[0])+2))\n",
    "narr[1:-1,1:-1]= or_arr\n",
    "narr"
   ]
  },
  {
   "cell_type": "code",
   "execution_count": null,
   "id": "2243a845",
   "metadata": {},
   "outputs": [],
   "source": []
  },
  {
   "cell_type": "code",
   "execution_count": null,
   "id": "a2cb24c0",
   "metadata": {},
   "outputs": [],
   "source": []
  }
 ],
 "metadata": {
  "kernelspec": {
   "display_name": "Python 3 (ipykernel)",
   "language": "python",
   "name": "python3"
  },
  "language_info": {
   "codemirror_mode": {
    "name": "ipython",
    "version": 3
   },
   "file_extension": ".py",
   "mimetype": "text/x-python",
   "name": "python",
   "nbconvert_exporter": "python",
   "pygments_lexer": "ipython3",
   "version": "3.9.7"
  }
 },
 "nbformat": 4,
 "nbformat_minor": 5
}
