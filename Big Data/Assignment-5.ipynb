{
 "cells": [
  {
   "cell_type": "markdown",
   "id": "6acf3ee4",
   "metadata": {},
   "source": [
    "# Assignment 5: Data Frames \n",
    "\n",
    "Write the following programs in the Jupyter Notebook. For help with the assignment, you can use the tutorials linked to the course calendar Save your completed notebook as a .ipynb file as well as a .pdf file and submit them to Canvas->Assignments->Assignment 5: Data Frames PySpark\n",
    "\n",
    "Data Frames Primer\n",
    "\n",
    "In this primer, we will study a classic data set - the survivors in the sinking of the Titanic. As there were limited lifeboats, decisions were made prioritizing who would and would not survive. We will observe how different factors such as age, sex, and class affected a person’s chance of survival using data frames."
   ]
  },
  {
   "cell_type": "markdown",
   "id": "e2740875",
   "metadata": {},
   "source": [
    "# 1] Input the following data into a data frame called titanic, and display the entire data frame:\n",
    " Sex, Class, Survived, Died\n",
    "\n",
    " Children, First, 6, 0\n",
    "\n",
    " Children, Second, 24, 0\n",
    "\n",
    " Children, Third, 27, 52\n",
    "\n",
    " Men, First, 57, 118\n",
    "\n",
    " Men, Second, 14, 154\n",
    "\n",
    " Men, Third, 75, 387\n",
    "\n",
    " Men, Crew, 192, 693\n",
    "\n",
    " Women, First, 140, 4\n",
    "\n",
    " Women, Second, 80, 13\n",
    "\n",
    " Women, Third, 76, 89\n",
    "\n",
    " Women, Crew, 20, 3 "
   ]
  },
  {
   "cell_type": "code",
   "execution_count": 3,
   "id": "23eb4719",
   "metadata": {},
   "outputs": [
    {
     "name": "stdout",
     "output_type": "stream",
     "text": [
      "         Sex   Class  Survived  Died\n",
      "0   Children   First         6     0\n",
      "1   Children  second        24     0\n",
      "2   Children   Third        27    52\n",
      "3        Men   First        57   118\n",
      "4        Men  second        14   154\n",
      "5        Men   Third        75   387\n",
      "6        Men    Crew       192   693\n",
      "7      Women   First       140     4\n",
      "8      Women  second        80    13\n",
      "9      Women   Third        76    89\n",
      "10     Women    Crew        20     3\n"
     ]
    }
   ],
   "source": [
    "import pandas as pd\n",
    "\n",
    "column=[\"Sex\",\"Class\",\"Survived\",\"Died\"]\n",
    "rows = {\"Sex\" :[\"Children\",\"Children\",\"Children\",\"Men\",\"Men\",\"Men\",\"Men\",\"Women\",\"Women\",\"Women\",\"Women\"],\n",
    "           \"Class\":[\"First\",\"second\",\"Third\",\"First\",\"second\",\"Third\",\"Crew\",\"First\",\"second\",\"Third\",\"Crew\"],\n",
    "           \"Survived\":[6,24,27,57,14,75,192,140,80,76,20],\n",
    "           \"Died\":[0,0,52,118,154,387,693,4,13,89,3]}\n",
    "titanic = pd.DataFrame(rows,columns=column)\n",
    "print(titanic)"
   ]
  },
  {
   "cell_type": "markdown",
   "id": "52c2c625",
   "metadata": {},
   "source": [
    "# 2] Delete the crew members from the data.\n",
    " \n"
   ]
  },
  {
   "cell_type": "code",
   "execution_count": 4,
   "id": "23671be9",
   "metadata": {},
   "outputs": [
    {
     "name": "stdout",
     "output_type": "stream",
     "text": [
      "        Sex   Class  Survived  Died\n",
      "0  Children   First         6     0\n",
      "1  Children  second        24     0\n",
      "2  Children   Third        27    52\n",
      "3       Men   First        57   118\n",
      "4       Men  second        14   154\n",
      "5       Men   Third        75   387\n",
      "7     Women   First       140     4\n",
      "8     Women  second        80    13\n",
      "9     Women   Third        76    89\n"
     ]
    }
   ],
   "source": [
    "titanic = titanic[titanic[\"Class\"]!=\"Crew\"]\n",
    "print(titanic)"
   ]
  },
  {
   "cell_type": "markdown",
   "id": "77626735",
   "metadata": {},
   "source": [
    "# 3] Create a new column that is the total number of people for that group (those who survived + died).\n",
    " \n"
   ]
  },
  {
   "cell_type": "code",
   "execution_count": 13,
   "id": "6f49997f",
   "metadata": {},
   "outputs": [
    {
     "name": "stdout",
     "output_type": "stream",
     "text": [
      "        Sex   Class  Survived  Died  Survival_Percentage  \\\n",
      "0  Children   First         6     0           100.000000   \n",
      "1  Children  second        24     0           100.000000   \n",
      "2  Children   Third        27    52            34.177215   \n",
      "3       Men   First        57   118            32.571429   \n",
      "4       Men  second        14   154             8.333333   \n",
      "5       Men   Third        75   387            16.233766   \n",
      "7     Women   First       140     4            97.222222   \n",
      "8     Women  second        80    13            86.021505   \n",
      "9     Women   Third        76    89            46.060606   \n",
      "\n",
      "   Total_no.of_survivors  \n",
      "0                      6  \n",
      "1                     24  \n",
      "2                     79  \n",
      "3                    175  \n",
      "4                    168  \n",
      "5                    462  \n",
      "7                    144  \n",
      "8                     93  \n",
      "9                    165  \n"
     ]
    }
   ],
   "source": [
    "titanic[\"Total_no.of_survivors\"]=titanic[\"Survived\"]+titanic[\"Died\"]\n",
    "print(titanic)"
   ]
  },
  {
   "cell_type": "markdown",
   "id": "b1f3a536",
   "metadata": {},
   "source": [
    "# 4] Delete the column indicating the total number of people in that group.\n",
    " \n"
   ]
  },
  {
   "cell_type": "code",
   "execution_count": 14,
   "id": "0f34af0e",
   "metadata": {},
   "outputs": [
    {
     "name": "stdout",
     "output_type": "stream",
     "text": [
      "        Sex   Class  Survived  Died  Survival_Percentage  \\\n",
      "0  Children   First         6     0           100.000000   \n",
      "1  Children  second        24     0           100.000000   \n",
      "2  Children   Third        27    52            34.177215   \n",
      "3       Men   First        57   118            32.571429   \n",
      "4       Men  second        14   154             8.333333   \n",
      "5       Men   Third        75   387            16.233766   \n",
      "7     Women   First       140     4            97.222222   \n",
      "8     Women  second        80    13            86.021505   \n",
      "9     Women   Third        76    89            46.060606   \n",
      "\n",
      "   Total_no.of_survivors  \n",
      "0                      6  \n",
      "1                     24  \n",
      "2                     79  \n",
      "3                    175  \n",
      "4                    168  \n",
      "5                    462  \n",
      "7                    144  \n",
      "8                     93  \n",
      "9                    165  \n"
     ]
    }
   ],
   "source": [
    "titanic[\"Survival_Percentage\"]=titanic[\"Survived\"]*100/titanic[\"Total_no.of_survivors\"]\n",
    "print(titanic)"
   ]
  },
  {
   "cell_type": "code",
   "execution_count": 15,
   "id": "9bc926f1",
   "metadata": {},
   "outputs": [
    {
     "name": "stdout",
     "output_type": "stream",
     "text": [
      "        Sex   Class  Survived  Died  Survival_Percentage\n",
      "0  Children   First         6     0           100.000000\n",
      "1  Children  second        24     0           100.000000\n",
      "2  Children   Third        27    52            34.177215\n",
      "3       Men   First        57   118            32.571429\n",
      "4       Men  second        14   154             8.333333\n",
      "5       Men   Third        75   387            16.233766\n",
      "7     Women   First       140     4            97.222222\n",
      "8     Women  second        80    13            86.021505\n",
      "9     Women   Third        76    89            46.060606\n"
     ]
    }
   ],
   "source": [
    "titanic.drop(columns=['Total_no.of_survivors'],inplace=True)\n",
    "print(titanic)"
   ]
  },
  {
   "cell_type": "markdown",
   "id": "55ae0aa4",
   "metadata": {},
   "source": [
    "# 5] Only show the rows where more than 80% of the people survived."
   ]
  },
  {
   "cell_type": "code",
   "execution_count": 8,
   "id": "6f61d1ea",
   "metadata": {},
   "outputs": [
    {
     "data": {
      "text/html": [
       "<div>\n",
       "<style scoped>\n",
       "    .dataframe tbody tr th:only-of-type {\n",
       "        vertical-align: middle;\n",
       "    }\n",
       "\n",
       "    .dataframe tbody tr th {\n",
       "        vertical-align: top;\n",
       "    }\n",
       "\n",
       "    .dataframe thead th {\n",
       "        text-align: right;\n",
       "    }\n",
       "</style>\n",
       "<table border=\"1\" class=\"dataframe\">\n",
       "  <thead>\n",
       "    <tr style=\"text-align: right;\">\n",
       "      <th></th>\n",
       "      <th>Sex</th>\n",
       "      <th>Class</th>\n",
       "      <th>Survived</th>\n",
       "      <th>Died</th>\n",
       "      <th>Survival_Percentage</th>\n",
       "    </tr>\n",
       "  </thead>\n",
       "  <tbody>\n",
       "    <tr>\n",
       "      <th>0</th>\n",
       "      <td>Children</td>\n",
       "      <td>First</td>\n",
       "      <td>6</td>\n",
       "      <td>0</td>\n",
       "      <td>100.000000</td>\n",
       "    </tr>\n",
       "    <tr>\n",
       "      <th>1</th>\n",
       "      <td>Children</td>\n",
       "      <td>second</td>\n",
       "      <td>24</td>\n",
       "      <td>0</td>\n",
       "      <td>100.000000</td>\n",
       "    </tr>\n",
       "    <tr>\n",
       "      <th>7</th>\n",
       "      <td>Women</td>\n",
       "      <td>First</td>\n",
       "      <td>140</td>\n",
       "      <td>4</td>\n",
       "      <td>97.222222</td>\n",
       "    </tr>\n",
       "    <tr>\n",
       "      <th>8</th>\n",
       "      <td>Women</td>\n",
       "      <td>second</td>\n",
       "      <td>80</td>\n",
       "      <td>13</td>\n",
       "      <td>86.021505</td>\n",
       "    </tr>\n",
       "  </tbody>\n",
       "</table>\n",
       "</div>"
      ],
      "text/plain": [
       "        Sex   Class  Survived  Died  Survival_Percentage\n",
       "0  Children   First         6     0           100.000000\n",
       "1  Children  second        24     0           100.000000\n",
       "7     Women   First       140     4            97.222222\n",
       "8     Women  second        80    13            86.021505"
      ]
     },
     "execution_count": 8,
     "metadata": {},
     "output_type": "execute_result"
    }
   ],
   "source": [
    "titanic[titanic[\"Survival_Percentage\"]>80]"
   ]
  },
  {
   "cell_type": "code",
   "execution_count": null,
   "id": "a9da589e",
   "metadata": {},
   "outputs": [],
   "source": []
  },
  {
   "cell_type": "code",
   "execution_count": null,
   "id": "7924f9b1",
   "metadata": {},
   "outputs": [],
   "source": []
  },
  {
   "cell_type": "code",
   "execution_count": null,
   "id": "0d59e7e8",
   "metadata": {},
   "outputs": [],
   "source": []
  },
  {
   "cell_type": "code",
   "execution_count": null,
   "id": "8846b89d",
   "metadata": {},
   "outputs": [],
   "source": []
  }
 ],
 "metadata": {
  "kernelspec": {
   "display_name": "Python 3 (ipykernel)",
   "language": "python",
   "name": "python3"
  },
  "language_info": {
   "codemirror_mode": {
    "name": "ipython",
    "version": 3
   },
   "file_extension": ".py",
   "mimetype": "text/x-python",
   "name": "python",
   "nbconvert_exporter": "python",
   "pygments_lexer": "ipython3",
   "version": "3.9.7"
  }
 },
 "nbformat": 4,
 "nbformat_minor": 5
}
